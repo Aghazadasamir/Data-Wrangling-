{
 "cells": [
  {
   "cell_type": "code",
   "execution_count": 17,
   "id": "7ebfd894",
   "metadata": {},
   "outputs": [],
   "source": [
    "import numpy as np\n",
    "import pandas as pd \n",
    "import matplotlib.pyplot as plt\n",
    "import seaborn as sns\n",
    "import requests\n",
    "import json\n",
    "import tweepy\n",
    "import re\n",
    "import os\n",
    "%matplotlib inline"
   ]
  },
  {
   "cell_type": "markdown",
   "id": "588060be",
   "metadata": {},
   "source": [
    " "
   ]
  },
  {
   "cell_type": "markdown",
   "id": "416bc7a7",
   "metadata": {},
   "source": [
    " ## GATHERING"
   ]
  },
  {
   "cell_type": "code",
   "execution_count": 18,
   "id": "73b8bfca",
   "metadata": {},
   "outputs": [
    {
     "data": {
      "text/html": [
       "<div>\n",
       "<style scoped>\n",
       "    .dataframe tbody tr th:only-of-type {\n",
       "        vertical-align: middle;\n",
       "    }\n",
       "\n",
       "    .dataframe tbody tr th {\n",
       "        vertical-align: top;\n",
       "    }\n",
       "\n",
       "    .dataframe thead th {\n",
       "        text-align: right;\n",
       "    }\n",
       "</style>\n",
       "<table border=\"1\" class=\"dataframe\">\n",
       "  <thead>\n",
       "    <tr style=\"text-align: right;\">\n",
       "      <th></th>\n",
       "      <th>tweet_id</th>\n",
       "      <th>in_reply_to_status_id</th>\n",
       "      <th>in_reply_to_user_id</th>\n",
       "      <th>timestamp</th>\n",
       "      <th>source</th>\n",
       "      <th>text</th>\n",
       "      <th>retweeted_status_id</th>\n",
       "      <th>retweeted_status_user_id</th>\n",
       "      <th>retweeted_status_timestamp</th>\n",
       "      <th>expanded_urls</th>\n",
       "      <th>rating_numerator</th>\n",
       "      <th>rating_denominator</th>\n",
       "      <th>name</th>\n",
       "      <th>doggo</th>\n",
       "      <th>floofer</th>\n",
       "      <th>pupper</th>\n",
       "      <th>puppo</th>\n",
       "    </tr>\n",
       "  </thead>\n",
       "  <tbody>\n",
       "    <tr>\n",
       "      <th>0</th>\n",
       "      <td>892420643555336193</td>\n",
       "      <td>NaN</td>\n",
       "      <td>NaN</td>\n",
       "      <td>2017-08-01 16:23:56 +0000</td>\n",
       "      <td>&lt;a href=\"http://twitter.com/download/iphone\" r...</td>\n",
       "      <td>This is Phineas. He's a mystical boy. Only eve...</td>\n",
       "      <td>NaN</td>\n",
       "      <td>NaN</td>\n",
       "      <td>NaN</td>\n",
       "      <td>https://twitter.com/dog_rates/status/892420643...</td>\n",
       "      <td>13</td>\n",
       "      <td>10</td>\n",
       "      <td>Phineas</td>\n",
       "      <td>None</td>\n",
       "      <td>None</td>\n",
       "      <td>None</td>\n",
       "      <td>None</td>\n",
       "    </tr>\n",
       "    <tr>\n",
       "      <th>1</th>\n",
       "      <td>892177421306343426</td>\n",
       "      <td>NaN</td>\n",
       "      <td>NaN</td>\n",
       "      <td>2017-08-01 00:17:27 +0000</td>\n",
       "      <td>&lt;a href=\"http://twitter.com/download/iphone\" r...</td>\n",
       "      <td>This is Tilly. She's just checking pup on you....</td>\n",
       "      <td>NaN</td>\n",
       "      <td>NaN</td>\n",
       "      <td>NaN</td>\n",
       "      <td>https://twitter.com/dog_rates/status/892177421...</td>\n",
       "      <td>13</td>\n",
       "      <td>10</td>\n",
       "      <td>Tilly</td>\n",
       "      <td>None</td>\n",
       "      <td>None</td>\n",
       "      <td>None</td>\n",
       "      <td>None</td>\n",
       "    </tr>\n",
       "    <tr>\n",
       "      <th>2</th>\n",
       "      <td>891815181378084864</td>\n",
       "      <td>NaN</td>\n",
       "      <td>NaN</td>\n",
       "      <td>2017-07-31 00:18:03 +0000</td>\n",
       "      <td>&lt;a href=\"http://twitter.com/download/iphone\" r...</td>\n",
       "      <td>This is Archie. He is a rare Norwegian Pouncin...</td>\n",
       "      <td>NaN</td>\n",
       "      <td>NaN</td>\n",
       "      <td>NaN</td>\n",
       "      <td>https://twitter.com/dog_rates/status/891815181...</td>\n",
       "      <td>12</td>\n",
       "      <td>10</td>\n",
       "      <td>Archie</td>\n",
       "      <td>None</td>\n",
       "      <td>None</td>\n",
       "      <td>None</td>\n",
       "      <td>None</td>\n",
       "    </tr>\n",
       "    <tr>\n",
       "      <th>3</th>\n",
       "      <td>891689557279858688</td>\n",
       "      <td>NaN</td>\n",
       "      <td>NaN</td>\n",
       "      <td>2017-07-30 15:58:51 +0000</td>\n",
       "      <td>&lt;a href=\"http://twitter.com/download/iphone\" r...</td>\n",
       "      <td>This is Darla. She commenced a snooze mid meal...</td>\n",
       "      <td>NaN</td>\n",
       "      <td>NaN</td>\n",
       "      <td>NaN</td>\n",
       "      <td>https://twitter.com/dog_rates/status/891689557...</td>\n",
       "      <td>13</td>\n",
       "      <td>10</td>\n",
       "      <td>Darla</td>\n",
       "      <td>None</td>\n",
       "      <td>None</td>\n",
       "      <td>None</td>\n",
       "      <td>None</td>\n",
       "    </tr>\n",
       "    <tr>\n",
       "      <th>4</th>\n",
       "      <td>891327558926688256</td>\n",
       "      <td>NaN</td>\n",
       "      <td>NaN</td>\n",
       "      <td>2017-07-29 16:00:24 +0000</td>\n",
       "      <td>&lt;a href=\"http://twitter.com/download/iphone\" r...</td>\n",
       "      <td>This is Franklin. He would like you to stop ca...</td>\n",
       "      <td>NaN</td>\n",
       "      <td>NaN</td>\n",
       "      <td>NaN</td>\n",
       "      <td>https://twitter.com/dog_rates/status/891327558...</td>\n",
       "      <td>12</td>\n",
       "      <td>10</td>\n",
       "      <td>Franklin</td>\n",
       "      <td>None</td>\n",
       "      <td>None</td>\n",
       "      <td>None</td>\n",
       "      <td>None</td>\n",
       "    </tr>\n",
       "  </tbody>\n",
       "</table>\n",
       "</div>"
      ],
      "text/plain": [
       "             tweet_id  in_reply_to_status_id  in_reply_to_user_id  \\\n",
       "0  892420643555336193                    NaN                  NaN   \n",
       "1  892177421306343426                    NaN                  NaN   \n",
       "2  891815181378084864                    NaN                  NaN   \n",
       "3  891689557279858688                    NaN                  NaN   \n",
       "4  891327558926688256                    NaN                  NaN   \n",
       "\n",
       "                   timestamp  \\\n",
       "0  2017-08-01 16:23:56 +0000   \n",
       "1  2017-08-01 00:17:27 +0000   \n",
       "2  2017-07-31 00:18:03 +0000   \n",
       "3  2017-07-30 15:58:51 +0000   \n",
       "4  2017-07-29 16:00:24 +0000   \n",
       "\n",
       "                                              source  \\\n",
       "0  <a href=\"http://twitter.com/download/iphone\" r...   \n",
       "1  <a href=\"http://twitter.com/download/iphone\" r...   \n",
       "2  <a href=\"http://twitter.com/download/iphone\" r...   \n",
       "3  <a href=\"http://twitter.com/download/iphone\" r...   \n",
       "4  <a href=\"http://twitter.com/download/iphone\" r...   \n",
       "\n",
       "                                                text  retweeted_status_id  \\\n",
       "0  This is Phineas. He's a mystical boy. Only eve...                  NaN   \n",
       "1  This is Tilly. She's just checking pup on you....                  NaN   \n",
       "2  This is Archie. He is a rare Norwegian Pouncin...                  NaN   \n",
       "3  This is Darla. She commenced a snooze mid meal...                  NaN   \n",
       "4  This is Franklin. He would like you to stop ca...                  NaN   \n",
       "\n",
       "   retweeted_status_user_id retweeted_status_timestamp  \\\n",
       "0                       NaN                        NaN   \n",
       "1                       NaN                        NaN   \n",
       "2                       NaN                        NaN   \n",
       "3                       NaN                        NaN   \n",
       "4                       NaN                        NaN   \n",
       "\n",
       "                                       expanded_urls  rating_numerator  \\\n",
       "0  https://twitter.com/dog_rates/status/892420643...                13   \n",
       "1  https://twitter.com/dog_rates/status/892177421...                13   \n",
       "2  https://twitter.com/dog_rates/status/891815181...                12   \n",
       "3  https://twitter.com/dog_rates/status/891689557...                13   \n",
       "4  https://twitter.com/dog_rates/status/891327558...                12   \n",
       "\n",
       "   rating_denominator      name doggo floofer pupper puppo  \n",
       "0                  10   Phineas  None    None   None  None  \n",
       "1                  10     Tilly  None    None   None  None  \n",
       "2                  10    Archie  None    None   None  None  \n",
       "3                  10     Darla  None    None   None  None  \n",
       "4                  10  Franklin  None    None   None  None  "
      ]
     },
     "execution_count": 18,
     "metadata": {},
     "output_type": "execute_result"
    }
   ],
   "source": [
    "twitter_archive = pd.read_csv('twitter-archive-enhanced.csv')\n",
    "twitter_archive.head()"
   ]
  },
  {
   "cell_type": "code",
   "execution_count": 37,
   "id": "3e051109",
   "metadata": {
    "scrolled": false
   },
   "outputs": [
    {
     "data": {
      "text/html": [
       "<div>\n",
       "<style scoped>\n",
       "    .dataframe tbody tr th:only-of-type {\n",
       "        vertical-align: middle;\n",
       "    }\n",
       "\n",
       "    .dataframe tbody tr th {\n",
       "        vertical-align: top;\n",
       "    }\n",
       "\n",
       "    .dataframe thead th {\n",
       "        text-align: right;\n",
       "    }\n",
       "</style>\n",
       "<table border=\"1\" class=\"dataframe\">\n",
       "  <thead>\n",
       "    <tr style=\"text-align: right;\">\n",
       "      <th></th>\n",
       "      <th>tweet_id</th>\n",
       "      <th>jpg_url</th>\n",
       "      <th>img_num</th>\n",
       "      <th>p1</th>\n",
       "      <th>p1_conf</th>\n",
       "      <th>p1_dog</th>\n",
       "      <th>p2</th>\n",
       "      <th>p2_conf</th>\n",
       "      <th>p2_dog</th>\n",
       "      <th>p3</th>\n",
       "      <th>p3_conf</th>\n",
       "      <th>p3_dog</th>\n",
       "    </tr>\n",
       "  </thead>\n",
       "  <tbody>\n",
       "    <tr>\n",
       "      <th>0</th>\n",
       "      <td>666020888022790149</td>\n",
       "      <td>https://pbs.twimg.com/media/CT4udn0WwAA0aMy.jpg</td>\n",
       "      <td>1</td>\n",
       "      <td>Welsh_springer_spaniel</td>\n",
       "      <td>0.465074</td>\n",
       "      <td>True</td>\n",
       "      <td>collie</td>\n",
       "      <td>0.156665</td>\n",
       "      <td>True</td>\n",
       "      <td>Shetland_sheepdog</td>\n",
       "      <td>0.061428</td>\n",
       "      <td>True</td>\n",
       "    </tr>\n",
       "    <tr>\n",
       "      <th>1</th>\n",
       "      <td>666029285002620928</td>\n",
       "      <td>https://pbs.twimg.com/media/CT42GRgUYAA5iDo.jpg</td>\n",
       "      <td>1</td>\n",
       "      <td>redbone</td>\n",
       "      <td>0.506826</td>\n",
       "      <td>True</td>\n",
       "      <td>miniature_pinscher</td>\n",
       "      <td>0.074192</td>\n",
       "      <td>True</td>\n",
       "      <td>Rhodesian_ridgeback</td>\n",
       "      <td>0.072010</td>\n",
       "      <td>True</td>\n",
       "    </tr>\n",
       "    <tr>\n",
       "      <th>2</th>\n",
       "      <td>666033412701032449</td>\n",
       "      <td>https://pbs.twimg.com/media/CT4521TWwAEvMyu.jpg</td>\n",
       "      <td>1</td>\n",
       "      <td>German_shepherd</td>\n",
       "      <td>0.596461</td>\n",
       "      <td>True</td>\n",
       "      <td>malinois</td>\n",
       "      <td>0.138584</td>\n",
       "      <td>True</td>\n",
       "      <td>bloodhound</td>\n",
       "      <td>0.116197</td>\n",
       "      <td>True</td>\n",
       "    </tr>\n",
       "    <tr>\n",
       "      <th>3</th>\n",
       "      <td>666044226329800704</td>\n",
       "      <td>https://pbs.twimg.com/media/CT5Dr8HUEAA-lEu.jpg</td>\n",
       "      <td>1</td>\n",
       "      <td>Rhodesian_ridgeback</td>\n",
       "      <td>0.408143</td>\n",
       "      <td>True</td>\n",
       "      <td>redbone</td>\n",
       "      <td>0.360687</td>\n",
       "      <td>True</td>\n",
       "      <td>miniature_pinscher</td>\n",
       "      <td>0.222752</td>\n",
       "      <td>True</td>\n",
       "    </tr>\n",
       "    <tr>\n",
       "      <th>4</th>\n",
       "      <td>666049248165822465</td>\n",
       "      <td>https://pbs.twimg.com/media/CT5IQmsXIAAKY4A.jpg</td>\n",
       "      <td>1</td>\n",
       "      <td>miniature_pinscher</td>\n",
       "      <td>0.560311</td>\n",
       "      <td>True</td>\n",
       "      <td>Rottweiler</td>\n",
       "      <td>0.243682</td>\n",
       "      <td>True</td>\n",
       "      <td>Doberman</td>\n",
       "      <td>0.154629</td>\n",
       "      <td>True</td>\n",
       "    </tr>\n",
       "    <tr>\n",
       "      <th>...</th>\n",
       "      <td>...</td>\n",
       "      <td>...</td>\n",
       "      <td>...</td>\n",
       "      <td>...</td>\n",
       "      <td>...</td>\n",
       "      <td>...</td>\n",
       "      <td>...</td>\n",
       "      <td>...</td>\n",
       "      <td>...</td>\n",
       "      <td>...</td>\n",
       "      <td>...</td>\n",
       "      <td>...</td>\n",
       "    </tr>\n",
       "    <tr>\n",
       "      <th>2070</th>\n",
       "      <td>891327558926688256</td>\n",
       "      <td>https://pbs.twimg.com/media/DF6hr6BUMAAzZgT.jpg</td>\n",
       "      <td>2</td>\n",
       "      <td>basset</td>\n",
       "      <td>0.555712</td>\n",
       "      <td>True</td>\n",
       "      <td>English_springer</td>\n",
       "      <td>0.225770</td>\n",
       "      <td>True</td>\n",
       "      <td>German_short-haired_pointer</td>\n",
       "      <td>0.175219</td>\n",
       "      <td>True</td>\n",
       "    </tr>\n",
       "    <tr>\n",
       "      <th>2071</th>\n",
       "      <td>891689557279858688</td>\n",
       "      <td>https://pbs.twimg.com/media/DF_q7IAWsAEuuN8.jpg</td>\n",
       "      <td>1</td>\n",
       "      <td>paper_towel</td>\n",
       "      <td>0.170278</td>\n",
       "      <td>False</td>\n",
       "      <td>Labrador_retriever</td>\n",
       "      <td>0.168086</td>\n",
       "      <td>True</td>\n",
       "      <td>spatula</td>\n",
       "      <td>0.040836</td>\n",
       "      <td>False</td>\n",
       "    </tr>\n",
       "    <tr>\n",
       "      <th>2072</th>\n",
       "      <td>891815181378084864</td>\n",
       "      <td>https://pbs.twimg.com/media/DGBdLU1WsAANxJ9.jpg</td>\n",
       "      <td>1</td>\n",
       "      <td>Chihuahua</td>\n",
       "      <td>0.716012</td>\n",
       "      <td>True</td>\n",
       "      <td>malamute</td>\n",
       "      <td>0.078253</td>\n",
       "      <td>True</td>\n",
       "      <td>kelpie</td>\n",
       "      <td>0.031379</td>\n",
       "      <td>True</td>\n",
       "    </tr>\n",
       "    <tr>\n",
       "      <th>2073</th>\n",
       "      <td>892177421306343426</td>\n",
       "      <td>https://pbs.twimg.com/media/DGGmoV4XsAAUL6n.jpg</td>\n",
       "      <td>1</td>\n",
       "      <td>Chihuahua</td>\n",
       "      <td>0.323581</td>\n",
       "      <td>True</td>\n",
       "      <td>Pekinese</td>\n",
       "      <td>0.090647</td>\n",
       "      <td>True</td>\n",
       "      <td>papillon</td>\n",
       "      <td>0.068957</td>\n",
       "      <td>True</td>\n",
       "    </tr>\n",
       "    <tr>\n",
       "      <th>2074</th>\n",
       "      <td>892420643555336193</td>\n",
       "      <td>https://pbs.twimg.com/media/DGKD1-bXoAAIAUK.jpg</td>\n",
       "      <td>1</td>\n",
       "      <td>orange</td>\n",
       "      <td>0.097049</td>\n",
       "      <td>False</td>\n",
       "      <td>bagel</td>\n",
       "      <td>0.085851</td>\n",
       "      <td>False</td>\n",
       "      <td>banana</td>\n",
       "      <td>0.076110</td>\n",
       "      <td>False</td>\n",
       "    </tr>\n",
       "  </tbody>\n",
       "</table>\n",
       "<p>2075 rows × 12 columns</p>\n",
       "</div>"
      ],
      "text/plain": [
       "                tweet_id                                          jpg_url  \\\n",
       "0     666020888022790149  https://pbs.twimg.com/media/CT4udn0WwAA0aMy.jpg   \n",
       "1     666029285002620928  https://pbs.twimg.com/media/CT42GRgUYAA5iDo.jpg   \n",
       "2     666033412701032449  https://pbs.twimg.com/media/CT4521TWwAEvMyu.jpg   \n",
       "3     666044226329800704  https://pbs.twimg.com/media/CT5Dr8HUEAA-lEu.jpg   \n",
       "4     666049248165822465  https://pbs.twimg.com/media/CT5IQmsXIAAKY4A.jpg   \n",
       "...                  ...                                              ...   \n",
       "2070  891327558926688256  https://pbs.twimg.com/media/DF6hr6BUMAAzZgT.jpg   \n",
       "2071  891689557279858688  https://pbs.twimg.com/media/DF_q7IAWsAEuuN8.jpg   \n",
       "2072  891815181378084864  https://pbs.twimg.com/media/DGBdLU1WsAANxJ9.jpg   \n",
       "2073  892177421306343426  https://pbs.twimg.com/media/DGGmoV4XsAAUL6n.jpg   \n",
       "2074  892420643555336193  https://pbs.twimg.com/media/DGKD1-bXoAAIAUK.jpg   \n",
       "\n",
       "      img_num                      p1   p1_conf  p1_dog                  p2  \\\n",
       "0           1  Welsh_springer_spaniel  0.465074    True              collie   \n",
       "1           1                 redbone  0.506826    True  miniature_pinscher   \n",
       "2           1         German_shepherd  0.596461    True            malinois   \n",
       "3           1     Rhodesian_ridgeback  0.408143    True             redbone   \n",
       "4           1      miniature_pinscher  0.560311    True          Rottweiler   \n",
       "...       ...                     ...       ...     ...                 ...   \n",
       "2070        2                  basset  0.555712    True    English_springer   \n",
       "2071        1             paper_towel  0.170278   False  Labrador_retriever   \n",
       "2072        1               Chihuahua  0.716012    True            malamute   \n",
       "2073        1               Chihuahua  0.323581    True            Pekinese   \n",
       "2074        1                  orange  0.097049   False               bagel   \n",
       "\n",
       "       p2_conf  p2_dog                           p3   p3_conf  p3_dog  \n",
       "0     0.156665    True            Shetland_sheepdog  0.061428    True  \n",
       "1     0.074192    True          Rhodesian_ridgeback  0.072010    True  \n",
       "2     0.138584    True                   bloodhound  0.116197    True  \n",
       "3     0.360687    True           miniature_pinscher  0.222752    True  \n",
       "4     0.243682    True                     Doberman  0.154629    True  \n",
       "...        ...     ...                          ...       ...     ...  \n",
       "2070  0.225770    True  German_short-haired_pointer  0.175219    True  \n",
       "2071  0.168086    True                      spatula  0.040836   False  \n",
       "2072  0.078253    True                       kelpie  0.031379    True  \n",
       "2073  0.090647    True                     papillon  0.068957    True  \n",
       "2074  0.085851   False                       banana  0.076110   False  \n",
       "\n",
       "[2075 rows x 12 columns]"
      ]
     },
     "execution_count": 37,
     "metadata": {},
     "output_type": "execute_result"
    }
   ],
   "source": [
    "import requests\n",
    "url = 'https://d17h27t6h515a5.cloudfront.net/topher/2017/August/599fd2ad_image-predictions/image-predictions.tsv'\n",
    "response = requests.get(url)\n",
    "with open(\"image_predictions.tsv\", mode='wb') as file:\n",
    "    file.write(response.content)\n",
    "image_predictions=pd.read_csv('image_predictions.tsv', sep='\\t')\n",
    "image_predictions"
   ]
  },
  {
   "cell_type": "code",
   "execution_count": 20,
   "id": "3af9d84f",
   "metadata": {},
   "outputs": [],
   "source": [
    "consumer_key= '9k5Cqf4iGJ4fVZuLgHIutjgb6'\n",
    "consumer_secret= 'Ryziv2darHHpBGx4Lx2mgqbWPuwucwUpRLUucV5oMBguJwK1Gw'\n",
    "access_token= '1316092001608237056-hr4OnbvJCIABgn4QQB6AsqgvplFNyc'\n",
    "access_token_secret= 'wMBe5MNavIoBTCOSd3Eio3xzkRoQCFKp6M9F3n5qa2H1e'\n",
    "\n",
    "auth = tweepy.OAuthHandler(consumer_key, consumer_secret)\n",
    "auth.set_access_token(access_token, access_token_secret)\n",
    "api = tweepy.API(auth)"
   ]
  },
  {
   "cell_type": "code",
   "execution_count": 21,
   "id": "aeb2b60d",
   "metadata": {},
   "outputs": [],
   "source": [
    "with open('tweet_json.txt', 'a', encoding='utf8') as f:\n",
    "    for tweet_id in twitter_archive['tweet_id']:\n",
    "        try:\n",
    "            tweet = api.get_status(tweet_id, tweet_mode='extended')\n",
    "            json.dump(tweet._json, f)\n",
    "            f.write('\\n')\n",
    "        except:\n",
    "            continue"
   ]
  },
  {
   "cell_type": "code",
   "execution_count": null,
   "id": "5c451eeb",
   "metadata": {},
   "outputs": [],
   "source": [
    "twitter_list=[]\n",
    "for line in open('tweet_json.txt', 'r'):\n",
    "    twitter_data = json.loads(line)\n",
    "    twitter_list.append({'tweet_id': twitter_data['id_str'],\n",
    "                        'retweet_count': twitter_data['retweet_count'],\n",
    "                        'favorite_count': twitter_data['favorite_count'],\n",
    "                        'followers_count': twitter_data['user']['followers_count']})\n",
    "    "
   ]
  },
  {
   "cell_type": "code",
   "execution_count": 23,
   "id": "e0f76f8d",
   "metadata": {},
   "outputs": [
    {
     "data": {
      "text/html": [
       "<div>\n",
       "<style scoped>\n",
       "    .dataframe tbody tr th:only-of-type {\n",
       "        vertical-align: middle;\n",
       "    }\n",
       "\n",
       "    .dataframe tbody tr th {\n",
       "        vertical-align: top;\n",
       "    }\n",
       "\n",
       "    .dataframe thead th {\n",
       "        text-align: right;\n",
       "    }\n",
       "</style>\n",
       "<table border=\"1\" class=\"dataframe\">\n",
       "  <thead>\n",
       "    <tr style=\"text-align: right;\">\n",
       "      <th></th>\n",
       "      <th>tweet_id</th>\n",
       "      <th>retweet_count</th>\n",
       "      <th>favorite_count</th>\n",
       "      <th>followers_count</th>\n",
       "    </tr>\n",
       "  </thead>\n",
       "  <tbody>\n",
       "    <tr>\n",
       "      <th>0</th>\n",
       "      <td>892420643555336193</td>\n",
       "      <td>7052</td>\n",
       "      <td>33900</td>\n",
       "      <td>9246037</td>\n",
       "    </tr>\n",
       "    <tr>\n",
       "      <th>1</th>\n",
       "      <td>892177421306343426</td>\n",
       "      <td>5325</td>\n",
       "      <td>29408</td>\n",
       "      <td>9245540</td>\n",
       "    </tr>\n",
       "    <tr>\n",
       "      <th>2</th>\n",
       "      <td>891815181378084864</td>\n",
       "      <td>3502</td>\n",
       "      <td>22123</td>\n",
       "      <td>9245540</td>\n",
       "    </tr>\n",
       "    <tr>\n",
       "      <th>3</th>\n",
       "      <td>891689557279858688</td>\n",
       "      <td>7258</td>\n",
       "      <td>37038</td>\n",
       "      <td>9245540</td>\n",
       "    </tr>\n",
       "    <tr>\n",
       "      <th>4</th>\n",
       "      <td>891327558926688256</td>\n",
       "      <td>7799</td>\n",
       "      <td>35372</td>\n",
       "      <td>9245964</td>\n",
       "    </tr>\n",
       "  </tbody>\n",
       "</table>\n",
       "</div>"
      ],
      "text/plain": [
       "             tweet_id  retweet_count  favorite_count  followers_count\n",
       "0  892420643555336193           7052           33900          9246037\n",
       "1  892177421306343426           5325           29408          9245540\n",
       "2  891815181378084864           3502           22123          9245540\n",
       "3  891689557279858688           7258           37038          9245540\n",
       "4  891327558926688256           7799           35372          9245964"
      ]
     },
     "execution_count": 23,
     "metadata": {},
     "output_type": "execute_result"
    }
   ],
   "source": [
    "twitter_data = pd.DataFrame(twitter_list, columns = ['tweet_id', 'retweet_count', 'favorite_count', 'followers_count']) \n",
    "twitter_data.head()"
   ]
  },
  {
   "cell_type": "markdown",
   "id": "04dc894d",
   "metadata": {},
   "source": [
    " "
   ]
  },
  {
   "cell_type": "markdown",
   "id": "b93dd2d2",
   "metadata": {},
   "source": [
    "## ACCESSING"
   ]
  },
  {
   "cell_type": "markdown",
   "id": "8ffb3ccf",
   "metadata": {},
   "source": [
    "## QUALITY\n",
    "## twitter_archive: \n",
    "#####                 *Choose where retweeted_status_id, retweeted_status_user_id, and retweeted_status_timestamp do not have value\n",
    "#####                 * The type of timestamp is object, it should be datetime.\n",
    "#####                 *  retweeted_status_timestamp is object\n",
    "#####                 * source column is html \n",
    "#####                 * the mean of denominator is 10.45 which is supposed to be 10 /max()  \n",
    "#####                 * Some dog  names are not correct.\n",
    "#####                 * Text column contains text and URL\n",
    "## image_predictions: \n",
    "#####                  * Some tweets do not contain dog pictures\n",
    "## twitter_data:    \n",
    "#####                   * twitter_data id column object should be integer\n",
    "\n",
    "\n",
    "## Tidiness\n",
    "#####                    * doggo, floofer, pupper and puppo columns in twitter_archive table should be merged into one column named \"dog_stage\".\n",
    "#####                    * twitter api table columns(retweet_count, favorite_count, followers_count) should be added to twitter archive table.\n",
    " "
   ]
  },
  {
   "cell_type": "code",
   "execution_count": 24,
   "id": "ab81f6cf",
   "metadata": {},
   "outputs": [
    {
     "data": {
      "text/html": [
       "<div>\n",
       "<style scoped>\n",
       "    .dataframe tbody tr th:only-of-type {\n",
       "        vertical-align: middle;\n",
       "    }\n",
       "\n",
       "    .dataframe tbody tr th {\n",
       "        vertical-align: top;\n",
       "    }\n",
       "\n",
       "    .dataframe thead th {\n",
       "        text-align: right;\n",
       "    }\n",
       "</style>\n",
       "<table border=\"1\" class=\"dataframe\">\n",
       "  <thead>\n",
       "    <tr style=\"text-align: right;\">\n",
       "      <th></th>\n",
       "      <th>tweet_id</th>\n",
       "      <th>in_reply_to_status_id</th>\n",
       "      <th>in_reply_to_user_id</th>\n",
       "      <th>timestamp</th>\n",
       "      <th>source</th>\n",
       "      <th>text</th>\n",
       "      <th>retweeted_status_id</th>\n",
       "      <th>retweeted_status_user_id</th>\n",
       "      <th>retweeted_status_timestamp</th>\n",
       "      <th>expanded_urls</th>\n",
       "      <th>rating_numerator</th>\n",
       "      <th>rating_denominator</th>\n",
       "      <th>name</th>\n",
       "      <th>doggo</th>\n",
       "      <th>floofer</th>\n",
       "      <th>pupper</th>\n",
       "      <th>puppo</th>\n",
       "    </tr>\n",
       "  </thead>\n",
       "  <tbody>\n",
       "    <tr>\n",
       "      <th>0</th>\n",
       "      <td>892420643555336193</td>\n",
       "      <td>NaN</td>\n",
       "      <td>NaN</td>\n",
       "      <td>2017-08-01 16:23:56 +0000</td>\n",
       "      <td>&lt;a href=\"http://twitter.com/download/iphone\" r...</td>\n",
       "      <td>This is Phineas. He's a mystical boy. Only eve...</td>\n",
       "      <td>NaN</td>\n",
       "      <td>NaN</td>\n",
       "      <td>NaN</td>\n",
       "      <td>https://twitter.com/dog_rates/status/892420643...</td>\n",
       "      <td>13</td>\n",
       "      <td>10</td>\n",
       "      <td>Phineas</td>\n",
       "      <td>None</td>\n",
       "      <td>None</td>\n",
       "      <td>None</td>\n",
       "      <td>None</td>\n",
       "    </tr>\n",
       "  </tbody>\n",
       "</table>\n",
       "</div>"
      ],
      "text/plain": [
       "             tweet_id  in_reply_to_status_id  in_reply_to_user_id  \\\n",
       "0  892420643555336193                    NaN                  NaN   \n",
       "\n",
       "                   timestamp  \\\n",
       "0  2017-08-01 16:23:56 +0000   \n",
       "\n",
       "                                              source  \\\n",
       "0  <a href=\"http://twitter.com/download/iphone\" r...   \n",
       "\n",
       "                                                text  retweeted_status_id  \\\n",
       "0  This is Phineas. He's a mystical boy. Only eve...                  NaN   \n",
       "\n",
       "   retweeted_status_user_id retweeted_status_timestamp  \\\n",
       "0                       NaN                        NaN   \n",
       "\n",
       "                                       expanded_urls  rating_numerator  \\\n",
       "0  https://twitter.com/dog_rates/status/892420643...                13   \n",
       "\n",
       "   rating_denominator     name doggo floofer pupper puppo  \n",
       "0                  10  Phineas  None    None   None  None  "
      ]
     },
     "execution_count": 24,
     "metadata": {},
     "output_type": "execute_result"
    }
   ],
   "source": [
    "twitter_archive.head(1)"
   ]
  },
  {
   "cell_type": "code",
   "execution_count": 42,
   "id": "d015378d",
   "metadata": {},
   "outputs": [
    {
     "data": {
      "text/html": [
       "<div>\n",
       "<style scoped>\n",
       "    .dataframe tbody tr th:only-of-type {\n",
       "        vertical-align: middle;\n",
       "    }\n",
       "\n",
       "    .dataframe tbody tr th {\n",
       "        vertical-align: top;\n",
       "    }\n",
       "\n",
       "    .dataframe thead th {\n",
       "        text-align: right;\n",
       "    }\n",
       "</style>\n",
       "<table border=\"1\" class=\"dataframe\">\n",
       "  <thead>\n",
       "    <tr style=\"text-align: right;\">\n",
       "      <th></th>\n",
       "      <th>tweet_id</th>\n",
       "      <th>in_reply_to_status_id</th>\n",
       "      <th>in_reply_to_user_id</th>\n",
       "      <th>timestamp</th>\n",
       "      <th>source</th>\n",
       "      <th>text</th>\n",
       "      <th>retweeted_status_id</th>\n",
       "      <th>retweeted_status_user_id</th>\n",
       "      <th>retweeted_status_timestamp</th>\n",
       "      <th>expanded_urls</th>\n",
       "      <th>rating_numerator</th>\n",
       "      <th>rating_denominator</th>\n",
       "      <th>name</th>\n",
       "      <th>doggo</th>\n",
       "      <th>floofer</th>\n",
       "      <th>pupper</th>\n",
       "      <th>puppo</th>\n",
       "    </tr>\n",
       "  </thead>\n",
       "  <tbody>\n",
       "    <tr>\n",
       "      <th>2277</th>\n",
       "      <td>667437278097252352</td>\n",
       "      <td>NaN</td>\n",
       "      <td>NaN</td>\n",
       "      <td>2015-11-19 20:20:22 +0000</td>\n",
       "      <td>&lt;a href=\"http://twitter.com/download/iphone\" r...</td>\n",
       "      <td>Never seen this breed before. Very pointy pup....</td>\n",
       "      <td>NaN</td>\n",
       "      <td>NaN</td>\n",
       "      <td>NaN</td>\n",
       "      <td>https://twitter.com/dog_rates/status/667437278...</td>\n",
       "      <td>10</td>\n",
       "      <td>10</td>\n",
       "      <td>None</td>\n",
       "      <td>None</td>\n",
       "      <td>None</td>\n",
       "      <td>None</td>\n",
       "      <td>None</td>\n",
       "    </tr>\n",
       "    <tr>\n",
       "      <th>1249</th>\n",
       "      <td>711306686208872448</td>\n",
       "      <td>NaN</td>\n",
       "      <td>NaN</td>\n",
       "      <td>2016-03-19 21:41:44 +0000</td>\n",
       "      <td>&lt;a href=\"http://twitter.com/download/iphone\" r...</td>\n",
       "      <td>What hooligan sent in pictures w/out a dog in ...</td>\n",
       "      <td>NaN</td>\n",
       "      <td>NaN</td>\n",
       "      <td>NaN</td>\n",
       "      <td>https://twitter.com/dog_rates/status/711306686...</td>\n",
       "      <td>3</td>\n",
       "      <td>10</td>\n",
       "      <td>None</td>\n",
       "      <td>None</td>\n",
       "      <td>None</td>\n",
       "      <td>None</td>\n",
       "      <td>None</td>\n",
       "    </tr>\n",
       "    <tr>\n",
       "      <th>2163</th>\n",
       "      <td>669375718304980992</td>\n",
       "      <td>NaN</td>\n",
       "      <td>NaN</td>\n",
       "      <td>2015-11-25 04:43:02 +0000</td>\n",
       "      <td>&lt;a href=\"http://twitter.com/download/iphone\" r...</td>\n",
       "      <td>This is Billl. He's trying to be a ghost but h...</td>\n",
       "      <td>NaN</td>\n",
       "      <td>NaN</td>\n",
       "      <td>NaN</td>\n",
       "      <td>https://twitter.com/dog_rates/status/669375718...</td>\n",
       "      <td>6</td>\n",
       "      <td>10</td>\n",
       "      <td>Billl</td>\n",
       "      <td>None</td>\n",
       "      <td>None</td>\n",
       "      <td>None</td>\n",
       "      <td>None</td>\n",
       "    </tr>\n",
       "    <tr>\n",
       "      <th>540</th>\n",
       "      <td>806542213899489280</td>\n",
       "      <td>NaN</td>\n",
       "      <td>NaN</td>\n",
       "      <td>2016-12-07 16:53:43 +0000</td>\n",
       "      <td>&lt;a href=\"http://twitter.com/download/iphone\" r...</td>\n",
       "      <td>This is Waffles. He's concerned that the dandr...</td>\n",
       "      <td>NaN</td>\n",
       "      <td>NaN</td>\n",
       "      <td>NaN</td>\n",
       "      <td>https://twitter.com/dog_rates/status/806542213...</td>\n",
       "      <td>11</td>\n",
       "      <td>10</td>\n",
       "      <td>Waffles</td>\n",
       "      <td>None</td>\n",
       "      <td>None</td>\n",
       "      <td>None</td>\n",
       "      <td>None</td>\n",
       "    </tr>\n",
       "    <tr>\n",
       "      <th>640</th>\n",
       "      <td>793241302385262592</td>\n",
       "      <td>NaN</td>\n",
       "      <td>NaN</td>\n",
       "      <td>2016-11-01 00:00:38 +0000</td>\n",
       "      <td>&lt;a href=\"http://twitter.com/download/iphone\" r...</td>\n",
       "      <td>This is Tucker. He's out here bustin h*ckin gh...</td>\n",
       "      <td>NaN</td>\n",
       "      <td>NaN</td>\n",
       "      <td>NaN</td>\n",
       "      <td>https://twitter.com/dog_rates/status/793241302...</td>\n",
       "      <td>13</td>\n",
       "      <td>10</td>\n",
       "      <td>Tucker</td>\n",
       "      <td>None</td>\n",
       "      <td>None</td>\n",
       "      <td>None</td>\n",
       "      <td>None</td>\n",
       "    </tr>\n",
       "  </tbody>\n",
       "</table>\n",
       "</div>"
      ],
      "text/plain": [
       "                tweet_id  in_reply_to_status_id  in_reply_to_user_id  \\\n",
       "2277  667437278097252352                    NaN                  NaN   \n",
       "1249  711306686208872448                    NaN                  NaN   \n",
       "2163  669375718304980992                    NaN                  NaN   \n",
       "540   806542213899489280                    NaN                  NaN   \n",
       "640   793241302385262592                    NaN                  NaN   \n",
       "\n",
       "                      timestamp  \\\n",
       "2277  2015-11-19 20:20:22 +0000   \n",
       "1249  2016-03-19 21:41:44 +0000   \n",
       "2163  2015-11-25 04:43:02 +0000   \n",
       "540   2016-12-07 16:53:43 +0000   \n",
       "640   2016-11-01 00:00:38 +0000   \n",
       "\n",
       "                                                 source  \\\n",
       "2277  <a href=\"http://twitter.com/download/iphone\" r...   \n",
       "1249  <a href=\"http://twitter.com/download/iphone\" r...   \n",
       "2163  <a href=\"http://twitter.com/download/iphone\" r...   \n",
       "540   <a href=\"http://twitter.com/download/iphone\" r...   \n",
       "640   <a href=\"http://twitter.com/download/iphone\" r...   \n",
       "\n",
       "                                                   text  retweeted_status_id  \\\n",
       "2277  Never seen this breed before. Very pointy pup....                  NaN   \n",
       "1249  What hooligan sent in pictures w/out a dog in ...                  NaN   \n",
       "2163  This is Billl. He's trying to be a ghost but h...                  NaN   \n",
       "540   This is Waffles. He's concerned that the dandr...                  NaN   \n",
       "640   This is Tucker. He's out here bustin h*ckin gh...                  NaN   \n",
       "\n",
       "      retweeted_status_user_id retweeted_status_timestamp  \\\n",
       "2277                       NaN                        NaN   \n",
       "1249                       NaN                        NaN   \n",
       "2163                       NaN                        NaN   \n",
       "540                        NaN                        NaN   \n",
       "640                        NaN                        NaN   \n",
       "\n",
       "                                          expanded_urls  rating_numerator  \\\n",
       "2277  https://twitter.com/dog_rates/status/667437278...                10   \n",
       "1249  https://twitter.com/dog_rates/status/711306686...                 3   \n",
       "2163  https://twitter.com/dog_rates/status/669375718...                 6   \n",
       "540   https://twitter.com/dog_rates/status/806542213...                11   \n",
       "640   https://twitter.com/dog_rates/status/793241302...                13   \n",
       "\n",
       "      rating_denominator     name doggo floofer pupper puppo  \n",
       "2277                  10     None  None    None   None  None  \n",
       "1249                  10     None  None    None   None  None  \n",
       "2163                  10    Billl  None    None   None  None  \n",
       "540                   10  Waffles  None    None   None  None  \n",
       "640                   10   Tucker  None    None   None  None  "
      ]
     },
     "execution_count": 42,
     "metadata": {},
     "output_type": "execute_result"
    }
   ],
   "source": [
    "twitter_archive.sample(5)"
   ]
  },
  {
   "cell_type": "code",
   "execution_count": 26,
   "id": "254d2873",
   "metadata": {},
   "outputs": [
    {
     "data": {
      "text/plain": [
       "<a href=\"http://twitter.com/download/iphone\" rel=\"nofollow\">Twitter for iPhone</a>     2221\n",
       "<a href=\"http://vine.co\" rel=\"nofollow\">Vine - Make a Scene</a>                          91\n",
       "<a href=\"http://twitter.com\" rel=\"nofollow\">Twitter Web Client</a>                       33\n",
       "<a href=\"https://about.twitter.com/products/tweetdeck\" rel=\"nofollow\">TweetDeck</a>      11\n",
       "Name: source, dtype: int64"
      ]
     },
     "execution_count": 26,
     "metadata": {},
     "output_type": "execute_result"
    }
   ],
   "source": [
    "twitter_archive['source'].value_counts()"
   ]
  },
  {
   "cell_type": "code",
   "execution_count": 27,
   "id": "bff0095f",
   "metadata": {},
   "outputs": [
    {
     "data": {
      "text/html": [
       "<div>\n",
       "<style scoped>\n",
       "    .dataframe tbody tr th:only-of-type {\n",
       "        vertical-align: middle;\n",
       "    }\n",
       "\n",
       "    .dataframe tbody tr th {\n",
       "        vertical-align: top;\n",
       "    }\n",
       "\n",
       "    .dataframe thead th {\n",
       "        text-align: right;\n",
       "    }\n",
       "</style>\n",
       "<table border=\"1\" class=\"dataframe\">\n",
       "  <thead>\n",
       "    <tr style=\"text-align: right;\">\n",
       "      <th></th>\n",
       "      <th>tweet_id</th>\n",
       "      <th>in_reply_to_status_id</th>\n",
       "      <th>in_reply_to_user_id</th>\n",
       "      <th>retweeted_status_id</th>\n",
       "      <th>retweeted_status_user_id</th>\n",
       "      <th>rating_numerator</th>\n",
       "      <th>rating_denominator</th>\n",
       "    </tr>\n",
       "  </thead>\n",
       "  <tbody>\n",
       "    <tr>\n",
       "      <th>count</th>\n",
       "      <td>2.356000e+03</td>\n",
       "      <td>7.800000e+01</td>\n",
       "      <td>7.800000e+01</td>\n",
       "      <td>1.810000e+02</td>\n",
       "      <td>1.810000e+02</td>\n",
       "      <td>2356.000000</td>\n",
       "      <td>2356.000000</td>\n",
       "    </tr>\n",
       "    <tr>\n",
       "      <th>mean</th>\n",
       "      <td>7.427716e+17</td>\n",
       "      <td>7.455079e+17</td>\n",
       "      <td>2.014171e+16</td>\n",
       "      <td>7.720400e+17</td>\n",
       "      <td>1.241698e+16</td>\n",
       "      <td>13.126486</td>\n",
       "      <td>10.455433</td>\n",
       "    </tr>\n",
       "    <tr>\n",
       "      <th>std</th>\n",
       "      <td>6.856705e+16</td>\n",
       "      <td>7.582492e+16</td>\n",
       "      <td>1.252797e+17</td>\n",
       "      <td>6.236928e+16</td>\n",
       "      <td>9.599254e+16</td>\n",
       "      <td>45.876648</td>\n",
       "      <td>6.745237</td>\n",
       "    </tr>\n",
       "    <tr>\n",
       "      <th>min</th>\n",
       "      <td>6.660209e+17</td>\n",
       "      <td>6.658147e+17</td>\n",
       "      <td>1.185634e+07</td>\n",
       "      <td>6.661041e+17</td>\n",
       "      <td>7.832140e+05</td>\n",
       "      <td>0.000000</td>\n",
       "      <td>0.000000</td>\n",
       "    </tr>\n",
       "    <tr>\n",
       "      <th>25%</th>\n",
       "      <td>6.783989e+17</td>\n",
       "      <td>6.757419e+17</td>\n",
       "      <td>3.086374e+08</td>\n",
       "      <td>7.186315e+17</td>\n",
       "      <td>4.196984e+09</td>\n",
       "      <td>10.000000</td>\n",
       "      <td>10.000000</td>\n",
       "    </tr>\n",
       "    <tr>\n",
       "      <th>50%</th>\n",
       "      <td>7.196279e+17</td>\n",
       "      <td>7.038708e+17</td>\n",
       "      <td>4.196984e+09</td>\n",
       "      <td>7.804657e+17</td>\n",
       "      <td>4.196984e+09</td>\n",
       "      <td>11.000000</td>\n",
       "      <td>10.000000</td>\n",
       "    </tr>\n",
       "    <tr>\n",
       "      <th>75%</th>\n",
       "      <td>7.993373e+17</td>\n",
       "      <td>8.257804e+17</td>\n",
       "      <td>4.196984e+09</td>\n",
       "      <td>8.203146e+17</td>\n",
       "      <td>4.196984e+09</td>\n",
       "      <td>12.000000</td>\n",
       "      <td>10.000000</td>\n",
       "    </tr>\n",
       "    <tr>\n",
       "      <th>max</th>\n",
       "      <td>8.924206e+17</td>\n",
       "      <td>8.862664e+17</td>\n",
       "      <td>8.405479e+17</td>\n",
       "      <td>8.874740e+17</td>\n",
       "      <td>7.874618e+17</td>\n",
       "      <td>1776.000000</td>\n",
       "      <td>170.000000</td>\n",
       "    </tr>\n",
       "  </tbody>\n",
       "</table>\n",
       "</div>"
      ],
      "text/plain": [
       "           tweet_id  in_reply_to_status_id  in_reply_to_user_id  \\\n",
       "count  2.356000e+03           7.800000e+01         7.800000e+01   \n",
       "mean   7.427716e+17           7.455079e+17         2.014171e+16   \n",
       "std    6.856705e+16           7.582492e+16         1.252797e+17   \n",
       "min    6.660209e+17           6.658147e+17         1.185634e+07   \n",
       "25%    6.783989e+17           6.757419e+17         3.086374e+08   \n",
       "50%    7.196279e+17           7.038708e+17         4.196984e+09   \n",
       "75%    7.993373e+17           8.257804e+17         4.196984e+09   \n",
       "max    8.924206e+17           8.862664e+17         8.405479e+17   \n",
       "\n",
       "       retweeted_status_id  retweeted_status_user_id  rating_numerator  \\\n",
       "count         1.810000e+02              1.810000e+02       2356.000000   \n",
       "mean          7.720400e+17              1.241698e+16         13.126486   \n",
       "std           6.236928e+16              9.599254e+16         45.876648   \n",
       "min           6.661041e+17              7.832140e+05          0.000000   \n",
       "25%           7.186315e+17              4.196984e+09         10.000000   \n",
       "50%           7.804657e+17              4.196984e+09         11.000000   \n",
       "75%           8.203146e+17              4.196984e+09         12.000000   \n",
       "max           8.874740e+17              7.874618e+17       1776.000000   \n",
       "\n",
       "       rating_denominator  \n",
       "count         2356.000000  \n",
       "mean            10.455433  \n",
       "std              6.745237  \n",
       "min              0.000000  \n",
       "25%             10.000000  \n",
       "50%             10.000000  \n",
       "75%             10.000000  \n",
       "max            170.000000  "
      ]
     },
     "execution_count": 27,
     "metadata": {},
     "output_type": "execute_result"
    }
   ],
   "source": [
    "twitter_archive.describe()"
   ]
  },
  {
   "cell_type": "code",
   "execution_count": 28,
   "id": "50c30d9b",
   "metadata": {},
   "outputs": [
    {
     "data": {
      "text/plain": [
       "10     2333\n",
       "11        3\n",
       "50        3\n",
       "20        2\n",
       "80        2\n",
       "70        1\n",
       "7         1\n",
       "15        1\n",
       "150       1\n",
       "170       1\n",
       "0         1\n",
       "90        1\n",
       "40        1\n",
       "130       1\n",
       "110       1\n",
       "16        1\n",
       "120       1\n",
       "2         1\n",
       "Name: rating_denominator, dtype: int64"
      ]
     },
     "execution_count": 28,
     "metadata": {},
     "output_type": "execute_result"
    }
   ],
   "source": [
    "twitter_archive['rating_denominator'].value_counts()"
   ]
  },
  {
   "cell_type": "code",
   "execution_count": 29,
   "id": "67022c77",
   "metadata": {},
   "outputs": [
    {
     "name": "stdout",
     "output_type": "stream",
     "text": [
      "<class 'pandas.core.frame.DataFrame'>\n",
      "RangeIndex: 2356 entries, 0 to 2355\n",
      "Data columns (total 17 columns):\n",
      " #   Column                      Non-Null Count  Dtype  \n",
      "---  ------                      --------------  -----  \n",
      " 0   tweet_id                    2356 non-null   int64  \n",
      " 1   in_reply_to_status_id       78 non-null     float64\n",
      " 2   in_reply_to_user_id         78 non-null     float64\n",
      " 3   timestamp                   2356 non-null   object \n",
      " 4   source                      2356 non-null   object \n",
      " 5   text                        2356 non-null   object \n",
      " 6   retweeted_status_id         181 non-null    float64\n",
      " 7   retweeted_status_user_id    181 non-null    float64\n",
      " 8   retweeted_status_timestamp  181 non-null    object \n",
      " 9   expanded_urls               2297 non-null   object \n",
      " 10  rating_numerator            2356 non-null   int64  \n",
      " 11  rating_denominator          2356 non-null   int64  \n",
      " 12  name                        2356 non-null   object \n",
      " 13  doggo                       2356 non-null   object \n",
      " 14  floofer                     2356 non-null   object \n",
      " 15  pupper                      2356 non-null   object \n",
      " 16  puppo                       2356 non-null   object \n",
      "dtypes: float64(4), int64(3), object(10)\n",
      "memory usage: 313.0+ KB\n"
     ]
    }
   ],
   "source": [
    "twitter_archive.info()"
   ]
  },
  {
   "cell_type": "code",
   "execution_count": 74,
   "id": "2c091033",
   "metadata": {},
   "outputs": [
    {
     "data": {
      "text/html": [
       "<div>\n",
       "<style scoped>\n",
       "    .dataframe tbody tr th:only-of-type {\n",
       "        vertical-align: middle;\n",
       "    }\n",
       "\n",
       "    .dataframe tbody tr th {\n",
       "        vertical-align: top;\n",
       "    }\n",
       "\n",
       "    .dataframe thead th {\n",
       "        text-align: right;\n",
       "    }\n",
       "</style>\n",
       "<table border=\"1\" class=\"dataframe\">\n",
       "  <thead>\n",
       "    <tr style=\"text-align: right;\">\n",
       "      <th></th>\n",
       "      <th>tweet_id</th>\n",
       "      <th>in_reply_to_status_id</th>\n",
       "      <th>in_reply_to_user_id</th>\n",
       "      <th>timestamp</th>\n",
       "      <th>source</th>\n",
       "      <th>text</th>\n",
       "      <th>retweeted_status_id</th>\n",
       "      <th>retweeted_status_user_id</th>\n",
       "      <th>retweeted_status_timestamp</th>\n",
       "      <th>expanded_urls</th>\n",
       "      <th>rating_numerator</th>\n",
       "      <th>rating_denominator</th>\n",
       "      <th>name</th>\n",
       "      <th>doggo</th>\n",
       "      <th>floofer</th>\n",
       "      <th>pupper</th>\n",
       "      <th>puppo</th>\n",
       "    </tr>\n",
       "  </thead>\n",
       "  <tbody>\n",
       "    <tr>\n",
       "      <th>19</th>\n",
       "      <td>888202515573088257</td>\n",
       "      <td>NaN</td>\n",
       "      <td>NaN</td>\n",
       "      <td>2017-07-21 01:02:36 +0000</td>\n",
       "      <td>&lt;a href=\"http://twitter.com/download/iphone\" r...</td>\n",
       "      <td>RT @dog_rates: This is Canela. She attempted s...</td>\n",
       "      <td>8.874740e+17</td>\n",
       "      <td>4.196984e+09</td>\n",
       "      <td>2017-07-19 00:47:34 +0000</td>\n",
       "      <td>https://twitter.com/dog_rates/status/887473957...</td>\n",
       "      <td>13</td>\n",
       "      <td>10</td>\n",
       "      <td>Canela</td>\n",
       "      <td>None</td>\n",
       "      <td>None</td>\n",
       "      <td>None</td>\n",
       "      <td>None</td>\n",
       "    </tr>\n",
       "    <tr>\n",
       "      <th>32</th>\n",
       "      <td>886054160059072513</td>\n",
       "      <td>NaN</td>\n",
       "      <td>NaN</td>\n",
       "      <td>2017-07-15 02:45:48 +0000</td>\n",
       "      <td>&lt;a href=\"http://twitter.com/download/iphone\" r...</td>\n",
       "      <td>RT @Athletics: 12/10 #BATP https://t.co/WxwJmv...</td>\n",
       "      <td>8.860537e+17</td>\n",
       "      <td>1.960740e+07</td>\n",
       "      <td>2017-07-15 02:44:07 +0000</td>\n",
       "      <td>https://twitter.com/dog_rates/status/886053434...</td>\n",
       "      <td>12</td>\n",
       "      <td>10</td>\n",
       "      <td>None</td>\n",
       "      <td>None</td>\n",
       "      <td>None</td>\n",
       "      <td>None</td>\n",
       "      <td>None</td>\n",
       "    </tr>\n",
       "  </tbody>\n",
       "</table>\n",
       "</div>"
      ],
      "text/plain": [
       "              tweet_id  in_reply_to_status_id  in_reply_to_user_id  \\\n",
       "19  888202515573088257                    NaN                  NaN   \n",
       "32  886054160059072513                    NaN                  NaN   \n",
       "\n",
       "                    timestamp  \\\n",
       "19  2017-07-21 01:02:36 +0000   \n",
       "32  2017-07-15 02:45:48 +0000   \n",
       "\n",
       "                                               source  \\\n",
       "19  <a href=\"http://twitter.com/download/iphone\" r...   \n",
       "32  <a href=\"http://twitter.com/download/iphone\" r...   \n",
       "\n",
       "                                                 text  retweeted_status_id  \\\n",
       "19  RT @dog_rates: This is Canela. She attempted s...         8.874740e+17   \n",
       "32  RT @Athletics: 12/10 #BATP https://t.co/WxwJmv...         8.860537e+17   \n",
       "\n",
       "    retweeted_status_user_id retweeted_status_timestamp  \\\n",
       "19              4.196984e+09  2017-07-19 00:47:34 +0000   \n",
       "32              1.960740e+07  2017-07-15 02:44:07 +0000   \n",
       "\n",
       "                                        expanded_urls  rating_numerator  \\\n",
       "19  https://twitter.com/dog_rates/status/887473957...                13   \n",
       "32  https://twitter.com/dog_rates/status/886053434...                12   \n",
       "\n",
       "    rating_denominator    name doggo floofer pupper puppo  \n",
       "19                  10  Canela  None    None   None  None  \n",
       "32                  10    None  None    None   None  None  "
      ]
     },
     "execution_count": 74,
     "metadata": {},
     "output_type": "execute_result"
    }
   ],
   "source": [
    "twitter_archive[twitter_archive['text'].str.startswith('RT @')].head(2)"
   ]
  },
  {
   "cell_type": "code",
   "execution_count": 30,
   "id": "30111df3",
   "metadata": {},
   "outputs": [
    {
     "data": {
      "text/html": [
       "<div>\n",
       "<style scoped>\n",
       "    .dataframe tbody tr th:only-of-type {\n",
       "        vertical-align: middle;\n",
       "    }\n",
       "\n",
       "    .dataframe tbody tr th {\n",
       "        vertical-align: top;\n",
       "    }\n",
       "\n",
       "    .dataframe thead th {\n",
       "        text-align: right;\n",
       "    }\n",
       "</style>\n",
       "<table border=\"1\" class=\"dataframe\">\n",
       "  <thead>\n",
       "    <tr style=\"text-align: right;\">\n",
       "      <th></th>\n",
       "      <th>tweet_id</th>\n",
       "      <th>jpg_url</th>\n",
       "      <th>img_num</th>\n",
       "      <th>p1</th>\n",
       "      <th>p1_conf</th>\n",
       "      <th>p1_dog</th>\n",
       "      <th>p2</th>\n",
       "      <th>p2_conf</th>\n",
       "      <th>p2_dog</th>\n",
       "      <th>p3</th>\n",
       "      <th>p3_conf</th>\n",
       "      <th>p3_dog</th>\n",
       "    </tr>\n",
       "  </thead>\n",
       "  <tbody>\n",
       "    <tr>\n",
       "      <th>0</th>\n",
       "      <td>666020888022790149</td>\n",
       "      <td>https://pbs.twimg.com/media/CT4udn0WwAA0aMy.jpg</td>\n",
       "      <td>1</td>\n",
       "      <td>Welsh_springer_spaniel</td>\n",
       "      <td>0.465074</td>\n",
       "      <td>True</td>\n",
       "      <td>collie</td>\n",
       "      <td>0.156665</td>\n",
       "      <td>True</td>\n",
       "      <td>Shetland_sheepdog</td>\n",
       "      <td>0.061428</td>\n",
       "      <td>True</td>\n",
       "    </tr>\n",
       "    <tr>\n",
       "      <th>1</th>\n",
       "      <td>666029285002620928</td>\n",
       "      <td>https://pbs.twimg.com/media/CT42GRgUYAA5iDo.jpg</td>\n",
       "      <td>1</td>\n",
       "      <td>redbone</td>\n",
       "      <td>0.506826</td>\n",
       "      <td>True</td>\n",
       "      <td>miniature_pinscher</td>\n",
       "      <td>0.074192</td>\n",
       "      <td>True</td>\n",
       "      <td>Rhodesian_ridgeback</td>\n",
       "      <td>0.072010</td>\n",
       "      <td>True</td>\n",
       "    </tr>\n",
       "    <tr>\n",
       "      <th>2</th>\n",
       "      <td>666033412701032449</td>\n",
       "      <td>https://pbs.twimg.com/media/CT4521TWwAEvMyu.jpg</td>\n",
       "      <td>1</td>\n",
       "      <td>German_shepherd</td>\n",
       "      <td>0.596461</td>\n",
       "      <td>True</td>\n",
       "      <td>malinois</td>\n",
       "      <td>0.138584</td>\n",
       "      <td>True</td>\n",
       "      <td>bloodhound</td>\n",
       "      <td>0.116197</td>\n",
       "      <td>True</td>\n",
       "    </tr>\n",
       "    <tr>\n",
       "      <th>3</th>\n",
       "      <td>666044226329800704</td>\n",
       "      <td>https://pbs.twimg.com/media/CT5Dr8HUEAA-lEu.jpg</td>\n",
       "      <td>1</td>\n",
       "      <td>Rhodesian_ridgeback</td>\n",
       "      <td>0.408143</td>\n",
       "      <td>True</td>\n",
       "      <td>redbone</td>\n",
       "      <td>0.360687</td>\n",
       "      <td>True</td>\n",
       "      <td>miniature_pinscher</td>\n",
       "      <td>0.222752</td>\n",
       "      <td>True</td>\n",
       "    </tr>\n",
       "    <tr>\n",
       "      <th>4</th>\n",
       "      <td>666049248165822465</td>\n",
       "      <td>https://pbs.twimg.com/media/CT5IQmsXIAAKY4A.jpg</td>\n",
       "      <td>1</td>\n",
       "      <td>miniature_pinscher</td>\n",
       "      <td>0.560311</td>\n",
       "      <td>True</td>\n",
       "      <td>Rottweiler</td>\n",
       "      <td>0.243682</td>\n",
       "      <td>True</td>\n",
       "      <td>Doberman</td>\n",
       "      <td>0.154629</td>\n",
       "      <td>True</td>\n",
       "    </tr>\n",
       "  </tbody>\n",
       "</table>\n",
       "</div>"
      ],
      "text/plain": [
       "             tweet_id                                          jpg_url  \\\n",
       "0  666020888022790149  https://pbs.twimg.com/media/CT4udn0WwAA0aMy.jpg   \n",
       "1  666029285002620928  https://pbs.twimg.com/media/CT42GRgUYAA5iDo.jpg   \n",
       "2  666033412701032449  https://pbs.twimg.com/media/CT4521TWwAEvMyu.jpg   \n",
       "3  666044226329800704  https://pbs.twimg.com/media/CT5Dr8HUEAA-lEu.jpg   \n",
       "4  666049248165822465  https://pbs.twimg.com/media/CT5IQmsXIAAKY4A.jpg   \n",
       "\n",
       "   img_num                      p1   p1_conf  p1_dog                  p2  \\\n",
       "0        1  Welsh_springer_spaniel  0.465074    True              collie   \n",
       "1        1                 redbone  0.506826    True  miniature_pinscher   \n",
       "2        1         German_shepherd  0.596461    True            malinois   \n",
       "3        1     Rhodesian_ridgeback  0.408143    True             redbone   \n",
       "4        1      miniature_pinscher  0.560311    True          Rottweiler   \n",
       "\n",
       "    p2_conf  p2_dog                   p3   p3_conf  p3_dog  \n",
       "0  0.156665    True    Shetland_sheepdog  0.061428    True  \n",
       "1  0.074192    True  Rhodesian_ridgeback  0.072010    True  \n",
       "2  0.138584    True           bloodhound  0.116197    True  \n",
       "3  0.360687    True   miniature_pinscher  0.222752    True  \n",
       "4  0.243682    True             Doberman  0.154629    True  "
      ]
     },
     "execution_count": 30,
     "metadata": {},
     "output_type": "execute_result"
    }
   ],
   "source": [
    "image_predictions.head()"
   ]
  },
  {
   "cell_type": "code",
   "execution_count": 31,
   "id": "2e2bb739",
   "metadata": {},
   "outputs": [
    {
     "data": {
      "text/html": [
       "<div>\n",
       "<style scoped>\n",
       "    .dataframe tbody tr th:only-of-type {\n",
       "        vertical-align: middle;\n",
       "    }\n",
       "\n",
       "    .dataframe tbody tr th {\n",
       "        vertical-align: top;\n",
       "    }\n",
       "\n",
       "    .dataframe thead th {\n",
       "        text-align: right;\n",
       "    }\n",
       "</style>\n",
       "<table border=\"1\" class=\"dataframe\">\n",
       "  <thead>\n",
       "    <tr style=\"text-align: right;\">\n",
       "      <th></th>\n",
       "      <th>tweet_id</th>\n",
       "      <th>jpg_url</th>\n",
       "      <th>img_num</th>\n",
       "      <th>p1</th>\n",
       "      <th>p1_conf</th>\n",
       "      <th>p1_dog</th>\n",
       "      <th>p2</th>\n",
       "      <th>p2_conf</th>\n",
       "      <th>p2_dog</th>\n",
       "      <th>p3</th>\n",
       "      <th>p3_conf</th>\n",
       "      <th>p3_dog</th>\n",
       "    </tr>\n",
       "  </thead>\n",
       "  <tbody>\n",
       "    <tr>\n",
       "      <th>6</th>\n",
       "      <td>666051853826850816</td>\n",
       "      <td>https://pbs.twimg.com/media/CT5KoJ1WoAAJash.jpg</td>\n",
       "      <td>1</td>\n",
       "      <td>box_turtle</td>\n",
       "      <td>0.933012</td>\n",
       "      <td>False</td>\n",
       "      <td>mud_turtle</td>\n",
       "      <td>0.045885</td>\n",
       "      <td>False</td>\n",
       "      <td>terrapin</td>\n",
       "      <td>0.017885</td>\n",
       "      <td>False</td>\n",
       "    </tr>\n",
       "    <tr>\n",
       "      <th>8</th>\n",
       "      <td>666057090499244032</td>\n",
       "      <td>https://pbs.twimg.com/media/CT5PY90WoAAQGLo.jpg</td>\n",
       "      <td>1</td>\n",
       "      <td>shopping_cart</td>\n",
       "      <td>0.962465</td>\n",
       "      <td>False</td>\n",
       "      <td>shopping_basket</td>\n",
       "      <td>0.014594</td>\n",
       "      <td>False</td>\n",
       "      <td>golden_retriever</td>\n",
       "      <td>0.007959</td>\n",
       "      <td>True</td>\n",
       "    </tr>\n",
       "    <tr>\n",
       "      <th>17</th>\n",
       "      <td>666104133288665088</td>\n",
       "      <td>https://pbs.twimg.com/media/CT56LSZWoAAlJj2.jpg</td>\n",
       "      <td>1</td>\n",
       "      <td>hen</td>\n",
       "      <td>0.965932</td>\n",
       "      <td>False</td>\n",
       "      <td>cock</td>\n",
       "      <td>0.033919</td>\n",
       "      <td>False</td>\n",
       "      <td>partridge</td>\n",
       "      <td>0.000052</td>\n",
       "      <td>False</td>\n",
       "    </tr>\n",
       "    <tr>\n",
       "      <th>18</th>\n",
       "      <td>666268910803644416</td>\n",
       "      <td>https://pbs.twimg.com/media/CT8QCd1WEAADXws.jpg</td>\n",
       "      <td>1</td>\n",
       "      <td>desktop_computer</td>\n",
       "      <td>0.086502</td>\n",
       "      <td>False</td>\n",
       "      <td>desk</td>\n",
       "      <td>0.085547</td>\n",
       "      <td>False</td>\n",
       "      <td>bookcase</td>\n",
       "      <td>0.079480</td>\n",
       "      <td>False</td>\n",
       "    </tr>\n",
       "    <tr>\n",
       "      <th>21</th>\n",
       "      <td>666293911632134144</td>\n",
       "      <td>https://pbs.twimg.com/media/CT8mx7KW4AEQu8N.jpg</td>\n",
       "      <td>1</td>\n",
       "      <td>three-toed_sloth</td>\n",
       "      <td>0.914671</td>\n",
       "      <td>False</td>\n",
       "      <td>otter</td>\n",
       "      <td>0.015250</td>\n",
       "      <td>False</td>\n",
       "      <td>great_grey_owl</td>\n",
       "      <td>0.013207</td>\n",
       "      <td>False</td>\n",
       "    </tr>\n",
       "    <tr>\n",
       "      <th>...</th>\n",
       "      <td>...</td>\n",
       "      <td>...</td>\n",
       "      <td>...</td>\n",
       "      <td>...</td>\n",
       "      <td>...</td>\n",
       "      <td>...</td>\n",
       "      <td>...</td>\n",
       "      <td>...</td>\n",
       "      <td>...</td>\n",
       "      <td>...</td>\n",
       "      <td>...</td>\n",
       "      <td>...</td>\n",
       "    </tr>\n",
       "    <tr>\n",
       "      <th>2026</th>\n",
       "      <td>882045870035918850</td>\n",
       "      <td>https://pbs.twimg.com/media/DD2oCl2WAAEI_4a.jpg</td>\n",
       "      <td>1</td>\n",
       "      <td>web_site</td>\n",
       "      <td>0.949591</td>\n",
       "      <td>False</td>\n",
       "      <td>dhole</td>\n",
       "      <td>0.017326</td>\n",
       "      <td>False</td>\n",
       "      <td>golden_retriever</td>\n",
       "      <td>0.006941</td>\n",
       "      <td>True</td>\n",
       "    </tr>\n",
       "    <tr>\n",
       "      <th>2046</th>\n",
       "      <td>886680336477933568</td>\n",
       "      <td>https://pbs.twimg.com/media/DE4fEDzWAAAyHMM.jpg</td>\n",
       "      <td>1</td>\n",
       "      <td>convertible</td>\n",
       "      <td>0.738995</td>\n",
       "      <td>False</td>\n",
       "      <td>sports_car</td>\n",
       "      <td>0.139952</td>\n",
       "      <td>False</td>\n",
       "      <td>car_wheel</td>\n",
       "      <td>0.044173</td>\n",
       "      <td>False</td>\n",
       "    </tr>\n",
       "    <tr>\n",
       "      <th>2052</th>\n",
       "      <td>887517139158093824</td>\n",
       "      <td>https://pbs.twimg.com/ext_tw_video_thumb/88751...</td>\n",
       "      <td>1</td>\n",
       "      <td>limousine</td>\n",
       "      <td>0.130432</td>\n",
       "      <td>False</td>\n",
       "      <td>tow_truck</td>\n",
       "      <td>0.029175</td>\n",
       "      <td>False</td>\n",
       "      <td>shopping_cart</td>\n",
       "      <td>0.026321</td>\n",
       "      <td>False</td>\n",
       "    </tr>\n",
       "    <tr>\n",
       "      <th>2071</th>\n",
       "      <td>891689557279858688</td>\n",
       "      <td>https://pbs.twimg.com/media/DF_q7IAWsAEuuN8.jpg</td>\n",
       "      <td>1</td>\n",
       "      <td>paper_towel</td>\n",
       "      <td>0.170278</td>\n",
       "      <td>False</td>\n",
       "      <td>Labrador_retriever</td>\n",
       "      <td>0.168086</td>\n",
       "      <td>True</td>\n",
       "      <td>spatula</td>\n",
       "      <td>0.040836</td>\n",
       "      <td>False</td>\n",
       "    </tr>\n",
       "    <tr>\n",
       "      <th>2074</th>\n",
       "      <td>892420643555336193</td>\n",
       "      <td>https://pbs.twimg.com/media/DGKD1-bXoAAIAUK.jpg</td>\n",
       "      <td>1</td>\n",
       "      <td>orange</td>\n",
       "      <td>0.097049</td>\n",
       "      <td>False</td>\n",
       "      <td>bagel</td>\n",
       "      <td>0.085851</td>\n",
       "      <td>False</td>\n",
       "      <td>banana</td>\n",
       "      <td>0.076110</td>\n",
       "      <td>False</td>\n",
       "    </tr>\n",
       "  </tbody>\n",
       "</table>\n",
       "<p>543 rows × 12 columns</p>\n",
       "</div>"
      ],
      "text/plain": [
       "                tweet_id                                            jpg_url  \\\n",
       "6     666051853826850816    https://pbs.twimg.com/media/CT5KoJ1WoAAJash.jpg   \n",
       "8     666057090499244032    https://pbs.twimg.com/media/CT5PY90WoAAQGLo.jpg   \n",
       "17    666104133288665088    https://pbs.twimg.com/media/CT56LSZWoAAlJj2.jpg   \n",
       "18    666268910803644416    https://pbs.twimg.com/media/CT8QCd1WEAADXws.jpg   \n",
       "21    666293911632134144    https://pbs.twimg.com/media/CT8mx7KW4AEQu8N.jpg   \n",
       "...                  ...                                                ...   \n",
       "2026  882045870035918850    https://pbs.twimg.com/media/DD2oCl2WAAEI_4a.jpg   \n",
       "2046  886680336477933568    https://pbs.twimg.com/media/DE4fEDzWAAAyHMM.jpg   \n",
       "2052  887517139158093824  https://pbs.twimg.com/ext_tw_video_thumb/88751...   \n",
       "2071  891689557279858688    https://pbs.twimg.com/media/DF_q7IAWsAEuuN8.jpg   \n",
       "2074  892420643555336193    https://pbs.twimg.com/media/DGKD1-bXoAAIAUK.jpg   \n",
       "\n",
       "      img_num                p1   p1_conf  p1_dog                  p2  \\\n",
       "6           1        box_turtle  0.933012   False          mud_turtle   \n",
       "8           1     shopping_cart  0.962465   False     shopping_basket   \n",
       "17          1               hen  0.965932   False                cock   \n",
       "18          1  desktop_computer  0.086502   False                desk   \n",
       "21          1  three-toed_sloth  0.914671   False               otter   \n",
       "...       ...               ...       ...     ...                 ...   \n",
       "2026        1          web_site  0.949591   False               dhole   \n",
       "2046        1       convertible  0.738995   False          sports_car   \n",
       "2052        1         limousine  0.130432   False           tow_truck   \n",
       "2071        1       paper_towel  0.170278   False  Labrador_retriever   \n",
       "2074        1            orange  0.097049   False               bagel   \n",
       "\n",
       "       p2_conf  p2_dog                p3   p3_conf  p3_dog  \n",
       "6     0.045885   False          terrapin  0.017885   False  \n",
       "8     0.014594   False  golden_retriever  0.007959    True  \n",
       "17    0.033919   False         partridge  0.000052   False  \n",
       "18    0.085547   False          bookcase  0.079480   False  \n",
       "21    0.015250   False    great_grey_owl  0.013207   False  \n",
       "...        ...     ...               ...       ...     ...  \n",
       "2026  0.017326   False  golden_retriever  0.006941    True  \n",
       "2046  0.139952   False         car_wheel  0.044173   False  \n",
       "2052  0.029175   False     shopping_cart  0.026321   False  \n",
       "2071  0.168086    True           spatula  0.040836   False  \n",
       "2074  0.085851   False            banana  0.076110   False  \n",
       "\n",
       "[543 rows x 12 columns]"
      ]
     },
     "execution_count": 31,
     "metadata": {},
     "output_type": "execute_result"
    }
   ],
   "source": [
    "image_predictions[image_predictions['p1_dog']==False]"
   ]
  },
  {
   "cell_type": "code",
   "execution_count": 32,
   "id": "58511e0c",
   "metadata": {
    "scrolled": true
   },
   "outputs": [
    {
     "name": "stdout",
     "output_type": "stream",
     "text": [
      "<class 'pandas.core.frame.DataFrame'>\n",
      "RangeIndex: 2075 entries, 0 to 2074\n",
      "Data columns (total 12 columns):\n",
      " #   Column    Non-Null Count  Dtype  \n",
      "---  ------    --------------  -----  \n",
      " 0   tweet_id  2075 non-null   int64  \n",
      " 1   jpg_url   2075 non-null   object \n",
      " 2   img_num   2075 non-null   int64  \n",
      " 3   p1        2075 non-null   object \n",
      " 4   p1_conf   2075 non-null   float64\n",
      " 5   p1_dog    2075 non-null   bool   \n",
      " 6   p2        2075 non-null   object \n",
      " 7   p2_conf   2075 non-null   float64\n",
      " 8   p2_dog    2075 non-null   bool   \n",
      " 9   p3        2075 non-null   object \n",
      " 10  p3_conf   2075 non-null   float64\n",
      " 11  p3_dog    2075 non-null   bool   \n",
      "dtypes: bool(3), float64(3), int64(2), object(4)\n",
      "memory usage: 152.1+ KB\n"
     ]
    }
   ],
   "source": [
    "image_predictions.info()"
   ]
  },
  {
   "cell_type": "code",
   "execution_count": 33,
   "id": "ab1ef53f",
   "metadata": {},
   "outputs": [
    {
     "data": {
      "text/html": [
       "<div>\n",
       "<style scoped>\n",
       "    .dataframe tbody tr th:only-of-type {\n",
       "        vertical-align: middle;\n",
       "    }\n",
       "\n",
       "    .dataframe tbody tr th {\n",
       "        vertical-align: top;\n",
       "    }\n",
       "\n",
       "    .dataframe thead th {\n",
       "        text-align: right;\n",
       "    }\n",
       "</style>\n",
       "<table border=\"1\" class=\"dataframe\">\n",
       "  <thead>\n",
       "    <tr style=\"text-align: right;\">\n",
       "      <th></th>\n",
       "      <th>tweet_id</th>\n",
       "      <th>img_num</th>\n",
       "      <th>p1_conf</th>\n",
       "      <th>p2_conf</th>\n",
       "      <th>p3_conf</th>\n",
       "    </tr>\n",
       "  </thead>\n",
       "  <tbody>\n",
       "    <tr>\n",
       "      <th>count</th>\n",
       "      <td>2.075000e+03</td>\n",
       "      <td>2075.000000</td>\n",
       "      <td>2075.000000</td>\n",
       "      <td>2.075000e+03</td>\n",
       "      <td>2.075000e+03</td>\n",
       "    </tr>\n",
       "    <tr>\n",
       "      <th>mean</th>\n",
       "      <td>7.384514e+17</td>\n",
       "      <td>1.203855</td>\n",
       "      <td>0.594548</td>\n",
       "      <td>1.345886e-01</td>\n",
       "      <td>6.032417e-02</td>\n",
       "    </tr>\n",
       "    <tr>\n",
       "      <th>std</th>\n",
       "      <td>6.785203e+16</td>\n",
       "      <td>0.561875</td>\n",
       "      <td>0.271174</td>\n",
       "      <td>1.006657e-01</td>\n",
       "      <td>5.090593e-02</td>\n",
       "    </tr>\n",
       "    <tr>\n",
       "      <th>min</th>\n",
       "      <td>6.660209e+17</td>\n",
       "      <td>1.000000</td>\n",
       "      <td>0.044333</td>\n",
       "      <td>1.011300e-08</td>\n",
       "      <td>1.740170e-10</td>\n",
       "    </tr>\n",
       "    <tr>\n",
       "      <th>25%</th>\n",
       "      <td>6.764835e+17</td>\n",
       "      <td>1.000000</td>\n",
       "      <td>0.364412</td>\n",
       "      <td>5.388625e-02</td>\n",
       "      <td>1.622240e-02</td>\n",
       "    </tr>\n",
       "    <tr>\n",
       "      <th>50%</th>\n",
       "      <td>7.119988e+17</td>\n",
       "      <td>1.000000</td>\n",
       "      <td>0.588230</td>\n",
       "      <td>1.181810e-01</td>\n",
       "      <td>4.944380e-02</td>\n",
       "    </tr>\n",
       "    <tr>\n",
       "      <th>75%</th>\n",
       "      <td>7.932034e+17</td>\n",
       "      <td>1.000000</td>\n",
       "      <td>0.843855</td>\n",
       "      <td>1.955655e-01</td>\n",
       "      <td>9.180755e-02</td>\n",
       "    </tr>\n",
       "    <tr>\n",
       "      <th>max</th>\n",
       "      <td>8.924206e+17</td>\n",
       "      <td>4.000000</td>\n",
       "      <td>1.000000</td>\n",
       "      <td>4.880140e-01</td>\n",
       "      <td>2.734190e-01</td>\n",
       "    </tr>\n",
       "  </tbody>\n",
       "</table>\n",
       "</div>"
      ],
      "text/plain": [
       "           tweet_id      img_num      p1_conf       p2_conf       p3_conf\n",
       "count  2.075000e+03  2075.000000  2075.000000  2.075000e+03  2.075000e+03\n",
       "mean   7.384514e+17     1.203855     0.594548  1.345886e-01  6.032417e-02\n",
       "std    6.785203e+16     0.561875     0.271174  1.006657e-01  5.090593e-02\n",
       "min    6.660209e+17     1.000000     0.044333  1.011300e-08  1.740170e-10\n",
       "25%    6.764835e+17     1.000000     0.364412  5.388625e-02  1.622240e-02\n",
       "50%    7.119988e+17     1.000000     0.588230  1.181810e-01  4.944380e-02\n",
       "75%    7.932034e+17     1.000000     0.843855  1.955655e-01  9.180755e-02\n",
       "max    8.924206e+17     4.000000     1.000000  4.880140e-01  2.734190e-01"
      ]
     },
     "execution_count": 33,
     "metadata": {},
     "output_type": "execute_result"
    }
   ],
   "source": [
    "image_predictions.describe()"
   ]
  },
  {
   "cell_type": "code",
   "execution_count": 34,
   "id": "d9ff7808",
   "metadata": {},
   "outputs": [
    {
     "name": "stdout",
     "output_type": "stream",
     "text": [
      "<class 'pandas.core.frame.DataFrame'>\n",
      "RangeIndex: 1366 entries, 0 to 1365\n",
      "Data columns (total 4 columns):\n",
      " #   Column           Non-Null Count  Dtype \n",
      "---  ------           --------------  ----- \n",
      " 0   tweet_id         1366 non-null   object\n",
      " 1   retweet_count    1366 non-null   int64 \n",
      " 2   favorite_count   1366 non-null   int64 \n",
      " 3   followers_count  1366 non-null   int64 \n",
      "dtypes: int64(3), object(1)\n",
      "memory usage: 42.8+ KB\n"
     ]
    }
   ],
   "source": [
    "twitter_data.info()"
   ]
  },
  {
   "cell_type": "markdown",
   "id": "26f046ee",
   "metadata": {},
   "source": [
    " "
   ]
  },
  {
   "cell_type": "markdown",
   "id": "7da88320",
   "metadata": {},
   "source": [
    "# CLEANING"
   ]
  },
  {
   "cell_type": "code",
   "execution_count": 63,
   "id": "2cda6c61",
   "metadata": {},
   "outputs": [],
   "source": [
    "archive_clean = twitter_archive.copy()\n",
    "image_clean = image_predictions.copy()\n",
    "twitterapi_clean = twitter_data.copy()"
   ]
  },
  {
   "cell_type": "code",
   "execution_count": 64,
   "id": "2230e4b6",
   "metadata": {},
   "outputs": [
    {
     "data": {
      "text/html": [
       "<div>\n",
       "<style scoped>\n",
       "    .dataframe tbody tr th:only-of-type {\n",
       "        vertical-align: middle;\n",
       "    }\n",
       "\n",
       "    .dataframe tbody tr th {\n",
       "        vertical-align: top;\n",
       "    }\n",
       "\n",
       "    .dataframe thead th {\n",
       "        text-align: right;\n",
       "    }\n",
       "</style>\n",
       "<table border=\"1\" class=\"dataframe\">\n",
       "  <thead>\n",
       "    <tr style=\"text-align: right;\">\n",
       "      <th></th>\n",
       "      <th>tweet_id</th>\n",
       "      <th>in_reply_to_status_id</th>\n",
       "      <th>in_reply_to_user_id</th>\n",
       "      <th>timestamp</th>\n",
       "      <th>source</th>\n",
       "      <th>text</th>\n",
       "      <th>retweeted_status_id</th>\n",
       "      <th>retweeted_status_user_id</th>\n",
       "      <th>retweeted_status_timestamp</th>\n",
       "      <th>expanded_urls</th>\n",
       "      <th>rating_numerator</th>\n",
       "      <th>rating_denominator</th>\n",
       "      <th>name</th>\n",
       "      <th>doggo</th>\n",
       "      <th>floofer</th>\n",
       "      <th>pupper</th>\n",
       "      <th>puppo</th>\n",
       "    </tr>\n",
       "  </thead>\n",
       "  <tbody>\n",
       "    <tr>\n",
       "      <th>0</th>\n",
       "      <td>892420643555336193</td>\n",
       "      <td>NaN</td>\n",
       "      <td>NaN</td>\n",
       "      <td>2017-08-01 16:23:56 +0000</td>\n",
       "      <td>&lt;a href=\"http://twitter.com/download/iphone\" r...</td>\n",
       "      <td>This is Phineas. He's a mystical boy. Only eve...</td>\n",
       "      <td>NaN</td>\n",
       "      <td>NaN</td>\n",
       "      <td>NaN</td>\n",
       "      <td>https://twitter.com/dog_rates/status/892420643...</td>\n",
       "      <td>13</td>\n",
       "      <td>10</td>\n",
       "      <td>Phineas</td>\n",
       "      <td>None</td>\n",
       "      <td>None</td>\n",
       "      <td>None</td>\n",
       "      <td>None</td>\n",
       "    </tr>\n",
       "  </tbody>\n",
       "</table>\n",
       "</div>"
      ],
      "text/plain": [
       "             tweet_id  in_reply_to_status_id  in_reply_to_user_id  \\\n",
       "0  892420643555336193                    NaN                  NaN   \n",
       "\n",
       "                   timestamp  \\\n",
       "0  2017-08-01 16:23:56 +0000   \n",
       "\n",
       "                                              source  \\\n",
       "0  <a href=\"http://twitter.com/download/iphone\" r...   \n",
       "\n",
       "                                                text  retweeted_status_id  \\\n",
       "0  This is Phineas. He's a mystical boy. Only eve...                  NaN   \n",
       "\n",
       "   retweeted_status_user_id retweeted_status_timestamp  \\\n",
       "0                       NaN                        NaN   \n",
       "\n",
       "                                       expanded_urls  rating_numerator  \\\n",
       "0  https://twitter.com/dog_rates/status/892420643...                13   \n",
       "\n",
       "   rating_denominator     name doggo floofer pupper puppo  \n",
       "0                  10  Phineas  None    None   None  None  "
      ]
     },
     "execution_count": 64,
     "metadata": {},
     "output_type": "execute_result"
    }
   ],
   "source": [
    "archive_clean.head(1)"
   ]
  },
  {
   "cell_type": "markdown",
   "id": "f6b2fd64",
   "metadata": {},
   "source": [
    "## Define"
   ]
  },
  {
   "cell_type": "markdown",
   "id": "bcc2d945",
   "metadata": {},
   "source": [
    "In order go get original dog rating, we need to choose where retweeted_status_id, retweeted_status_user_id, and retweeted_status_timestamp do not have value"
   ]
  },
  {
   "cell_type": "markdown",
   "id": "c62496db",
   "metadata": {},
   "source": [
    "## Code"
   ]
  },
  {
   "cell_type": "code",
   "execution_count": 65,
   "id": "8a4232ce",
   "metadata": {},
   "outputs": [],
   "source": [
    "archive_clean = archive_clean[pd.isnull(archive_clean['retweeted_status_id'])]\n",
    "archive_clean = archive_clean[pd.isnull(archive_clean['retweeted_status_user_id'])]\n",
    "archive_clean = archive_clean[pd.isnull(archive_clean['retweeted_status_timestamp'])]"
   ]
  },
  {
   "cell_type": "markdown",
   "id": "5b134b58",
   "metadata": {},
   "source": [
    "## Test"
   ]
  },
  {
   "cell_type": "code",
   "execution_count": 66,
   "id": "3059ee07",
   "metadata": {},
   "outputs": [
    {
     "name": "stdout",
     "output_type": "stream",
     "text": [
      "0\n",
      "0\n",
      "0\n"
     ]
    }
   ],
   "source": [
    "print(sum(archive_clean.retweeted_status_id.value_counts()))\n",
    "print(sum(archive_clean.retweeted_status_user_id.value_counts()))\n",
    "print(sum(archive_clean.retweeted_status_timestamp.value_counts()))"
   ]
  },
  {
   "cell_type": "markdown",
   "id": "a335f54b",
   "metadata": {},
   "source": [
    "## Define"
   ]
  },
  {
   "cell_type": "markdown",
   "id": "43f200df",
   "metadata": {},
   "source": [
    "In order to change the types of the columns, we should use pandas function."
   ]
  },
  {
   "cell_type": "markdown",
   "id": "e4378a5e",
   "metadata": {},
   "source": [
    "## Code"
   ]
  },
  {
   "cell_type": "code",
   "execution_count": 75,
   "id": "760a9cd1",
   "metadata": {},
   "outputs": [],
   "source": [
    "archive_clean['timestamp']=pd.to_datetime(archive_clean['timestamp'], errors='coerce')\n",
    "archive_clean['retweeted_status_timestamp']=pd.to_datetime(archive_clean['retweeted_status_timestamp'], errors='coerce')"
   ]
  },
  {
   "cell_type": "markdown",
   "id": "4f237a7a",
   "metadata": {},
   "source": [
    "## Test"
   ]
  },
  {
   "cell_type": "code",
   "execution_count": 76,
   "id": "ca380042",
   "metadata": {},
   "outputs": [
    {
     "name": "stdout",
     "output_type": "stream",
     "text": [
      "<class 'pandas.core.frame.DataFrame'>\n",
      "Int64Index: 2175 entries, 0 to 2355\n",
      "Data columns (total 17 columns):\n",
      " #   Column                      Non-Null Count  Dtype              \n",
      "---  ------                      --------------  -----              \n",
      " 0   tweet_id                    2175 non-null   int64              \n",
      " 1   in_reply_to_status_id       78 non-null     float64            \n",
      " 2   in_reply_to_user_id         78 non-null     float64            \n",
      " 3   timestamp                   2175 non-null   datetime64[ns, UTC]\n",
      " 4   source                      2175 non-null   object             \n",
      " 5   text                        2175 non-null   object             \n",
      " 6   retweeted_status_id         0 non-null      float64            \n",
      " 7   retweeted_status_user_id    0 non-null      float64            \n",
      " 8   retweeted_status_timestamp  0 non-null      datetime64[ns]     \n",
      " 9   expanded_urls               2117 non-null   object             \n",
      " 10  rating_numerator            2175 non-null   int64              \n",
      " 11  rating_denominator          2175 non-null   int64              \n",
      " 12  name                        2175 non-null   object             \n",
      " 13  doggo                       2175 non-null   object             \n",
      " 14  floofer                     2175 non-null   object             \n",
      " 15  pupper                      2175 non-null   object             \n",
      " 16  puppo                       2175 non-null   object             \n",
      "dtypes: datetime64[ns, UTC](1), datetime64[ns](1), float64(4), int64(3), object(8)\n",
      "memory usage: 305.9+ KB\n"
     ]
    }
   ],
   "source": [
    "archive_clean.info()"
   ]
  },
  {
   "cell_type": "markdown",
   "id": "6b1daf66",
   "metadata": {},
   "source": [
    "## Define"
   ]
  },
  {
   "cell_type": "markdown",
   "id": "b44878ed",
   "metadata": {},
   "source": [
    "To find out from which device posts are shared, I need to extract some part of 'source' column."
   ]
  },
  {
   "cell_type": "markdown",
   "id": "0f11c7e9",
   "metadata": {},
   "source": [
    "## Code"
   ]
  },
  {
   "cell_type": "code",
   "execution_count": 77,
   "id": "6b44939e",
   "metadata": {},
   "outputs": [],
   "source": [
    "archive_clean['source']=archive_clean['source'].str.extract('>([\\w\\W\\s]*)<', expand=True)"
   ]
  },
  {
   "cell_type": "markdown",
   "id": "5f5edff1",
   "metadata": {},
   "source": [
    "## Test"
   ]
  },
  {
   "cell_type": "code",
   "execution_count": 78,
   "id": "4a43ad30",
   "metadata": {},
   "outputs": [
    {
     "data": {
      "text/plain": [
       "0    Twitter for iPhone\n",
       "1    Twitter for iPhone\n",
       "2    Twitter for iPhone\n",
       "3    Twitter for iPhone\n",
       "4    Twitter for iPhone\n",
       "Name: source, dtype: object"
      ]
     },
     "execution_count": 78,
     "metadata": {},
     "output_type": "execute_result"
    }
   ],
   "source": [
    "archive_clean['source'].head()"
   ]
  },
  {
   "cell_type": "markdown",
   "id": "62814e24",
   "metadata": {},
   "source": [
    "## Define"
   ]
  },
  {
   "cell_type": "markdown",
   "id": "b837e3ec",
   "metadata": {},
   "source": [
    "the denominators is supposed to be 10. We can delete the rows which does not contain 10."
   ]
  },
  {
   "cell_type": "markdown",
   "id": "931c98bd",
   "metadata": {},
   "source": [
    "## Code"
   ]
  },
  {
   "cell_type": "code",
   "execution_count": 79,
   "id": "c03d018e",
   "metadata": {},
   "outputs": [],
   "source": [
    "archive_clean=archive_clean[archive_clean['rating_denominator']==10]"
   ]
  },
  {
   "cell_type": "markdown",
   "id": "16354fc8",
   "metadata": {},
   "source": [
    "## Test"
   ]
  },
  {
   "cell_type": "code",
   "execution_count": 80,
   "id": "0f3f30bd",
   "metadata": {
    "scrolled": true
   },
   "outputs": [
    {
     "data": {
      "text/html": [
       "<div>\n",
       "<style scoped>\n",
       "    .dataframe tbody tr th:only-of-type {\n",
       "        vertical-align: middle;\n",
       "    }\n",
       "\n",
       "    .dataframe tbody tr th {\n",
       "        vertical-align: top;\n",
       "    }\n",
       "\n",
       "    .dataframe thead th {\n",
       "        text-align: right;\n",
       "    }\n",
       "</style>\n",
       "<table border=\"1\" class=\"dataframe\">\n",
       "  <thead>\n",
       "    <tr style=\"text-align: right;\">\n",
       "      <th></th>\n",
       "      <th>tweet_id</th>\n",
       "      <th>in_reply_to_status_id</th>\n",
       "      <th>in_reply_to_user_id</th>\n",
       "      <th>timestamp</th>\n",
       "      <th>source</th>\n",
       "      <th>text</th>\n",
       "      <th>retweeted_status_id</th>\n",
       "      <th>retweeted_status_user_id</th>\n",
       "      <th>retweeted_status_timestamp</th>\n",
       "      <th>expanded_urls</th>\n",
       "      <th>rating_numerator</th>\n",
       "      <th>rating_denominator</th>\n",
       "      <th>name</th>\n",
       "      <th>doggo</th>\n",
       "      <th>floofer</th>\n",
       "      <th>pupper</th>\n",
       "      <th>puppo</th>\n",
       "    </tr>\n",
       "  </thead>\n",
       "  <tbody>\n",
       "    <tr>\n",
       "      <th>0</th>\n",
       "      <td>892420643555336193</td>\n",
       "      <td>NaN</td>\n",
       "      <td>NaN</td>\n",
       "      <td>2017-08-01 16:23:56+00:00</td>\n",
       "      <td>Twitter for iPhone</td>\n",
       "      <td>This is Phineas. He's a mystical boy. Only eve...</td>\n",
       "      <td>NaN</td>\n",
       "      <td>NaN</td>\n",
       "      <td>NaT</td>\n",
       "      <td>https://twitter.com/dog_rates/status/892420643...</td>\n",
       "      <td>13</td>\n",
       "      <td>10</td>\n",
       "      <td>Phineas</td>\n",
       "      <td>None</td>\n",
       "      <td>None</td>\n",
       "      <td>None</td>\n",
       "      <td>None</td>\n",
       "    </tr>\n",
       "    <tr>\n",
       "      <th>1</th>\n",
       "      <td>892177421306343426</td>\n",
       "      <td>NaN</td>\n",
       "      <td>NaN</td>\n",
       "      <td>2017-08-01 00:17:27+00:00</td>\n",
       "      <td>Twitter for iPhone</td>\n",
       "      <td>This is Tilly. She's just checking pup on you....</td>\n",
       "      <td>NaN</td>\n",
       "      <td>NaN</td>\n",
       "      <td>NaT</td>\n",
       "      <td>https://twitter.com/dog_rates/status/892177421...</td>\n",
       "      <td>13</td>\n",
       "      <td>10</td>\n",
       "      <td>Tilly</td>\n",
       "      <td>None</td>\n",
       "      <td>None</td>\n",
       "      <td>None</td>\n",
       "      <td>None</td>\n",
       "    </tr>\n",
       "    <tr>\n",
       "      <th>2</th>\n",
       "      <td>891815181378084864</td>\n",
       "      <td>NaN</td>\n",
       "      <td>NaN</td>\n",
       "      <td>2017-07-31 00:18:03+00:00</td>\n",
       "      <td>Twitter for iPhone</td>\n",
       "      <td>This is Archie. He is a rare Norwegian Pouncin...</td>\n",
       "      <td>NaN</td>\n",
       "      <td>NaN</td>\n",
       "      <td>NaT</td>\n",
       "      <td>https://twitter.com/dog_rates/status/891815181...</td>\n",
       "      <td>12</td>\n",
       "      <td>10</td>\n",
       "      <td>Archie</td>\n",
       "      <td>None</td>\n",
       "      <td>None</td>\n",
       "      <td>None</td>\n",
       "      <td>None</td>\n",
       "    </tr>\n",
       "    <tr>\n",
       "      <th>3</th>\n",
       "      <td>891689557279858688</td>\n",
       "      <td>NaN</td>\n",
       "      <td>NaN</td>\n",
       "      <td>2017-07-30 15:58:51+00:00</td>\n",
       "      <td>Twitter for iPhone</td>\n",
       "      <td>This is Darla. She commenced a snooze mid meal...</td>\n",
       "      <td>NaN</td>\n",
       "      <td>NaN</td>\n",
       "      <td>NaT</td>\n",
       "      <td>https://twitter.com/dog_rates/status/891689557...</td>\n",
       "      <td>13</td>\n",
       "      <td>10</td>\n",
       "      <td>Darla</td>\n",
       "      <td>None</td>\n",
       "      <td>None</td>\n",
       "      <td>None</td>\n",
       "      <td>None</td>\n",
       "    </tr>\n",
       "    <tr>\n",
       "      <th>4</th>\n",
       "      <td>891327558926688256</td>\n",
       "      <td>NaN</td>\n",
       "      <td>NaN</td>\n",
       "      <td>2017-07-29 16:00:24+00:00</td>\n",
       "      <td>Twitter for iPhone</td>\n",
       "      <td>This is Franklin. He would like you to stop ca...</td>\n",
       "      <td>NaN</td>\n",
       "      <td>NaN</td>\n",
       "      <td>NaT</td>\n",
       "      <td>https://twitter.com/dog_rates/status/891327558...</td>\n",
       "      <td>12</td>\n",
       "      <td>10</td>\n",
       "      <td>Franklin</td>\n",
       "      <td>None</td>\n",
       "      <td>None</td>\n",
       "      <td>None</td>\n",
       "      <td>None</td>\n",
       "    </tr>\n",
       "  </tbody>\n",
       "</table>\n",
       "</div>"
      ],
      "text/plain": [
       "             tweet_id  in_reply_to_status_id  in_reply_to_user_id  \\\n",
       "0  892420643555336193                    NaN                  NaN   \n",
       "1  892177421306343426                    NaN                  NaN   \n",
       "2  891815181378084864                    NaN                  NaN   \n",
       "3  891689557279858688                    NaN                  NaN   \n",
       "4  891327558926688256                    NaN                  NaN   \n",
       "\n",
       "                  timestamp              source  \\\n",
       "0 2017-08-01 16:23:56+00:00  Twitter for iPhone   \n",
       "1 2017-08-01 00:17:27+00:00  Twitter for iPhone   \n",
       "2 2017-07-31 00:18:03+00:00  Twitter for iPhone   \n",
       "3 2017-07-30 15:58:51+00:00  Twitter for iPhone   \n",
       "4 2017-07-29 16:00:24+00:00  Twitter for iPhone   \n",
       "\n",
       "                                                text  retweeted_status_id  \\\n",
       "0  This is Phineas. He's a mystical boy. Only eve...                  NaN   \n",
       "1  This is Tilly. She's just checking pup on you....                  NaN   \n",
       "2  This is Archie. He is a rare Norwegian Pouncin...                  NaN   \n",
       "3  This is Darla. She commenced a snooze mid meal...                  NaN   \n",
       "4  This is Franklin. He would like you to stop ca...                  NaN   \n",
       "\n",
       "   retweeted_status_user_id retweeted_status_timestamp  \\\n",
       "0                       NaN                        NaT   \n",
       "1                       NaN                        NaT   \n",
       "2                       NaN                        NaT   \n",
       "3                       NaN                        NaT   \n",
       "4                       NaN                        NaT   \n",
       "\n",
       "                                       expanded_urls  rating_numerator  \\\n",
       "0  https://twitter.com/dog_rates/status/892420643...                13   \n",
       "1  https://twitter.com/dog_rates/status/892177421...                13   \n",
       "2  https://twitter.com/dog_rates/status/891815181...                12   \n",
       "3  https://twitter.com/dog_rates/status/891689557...                13   \n",
       "4  https://twitter.com/dog_rates/status/891327558...                12   \n",
       "\n",
       "   rating_denominator      name doggo floofer pupper puppo  \n",
       "0                  10   Phineas  None    None   None  None  \n",
       "1                  10     Tilly  None    None   None  None  \n",
       "2                  10    Archie  None    None   None  None  \n",
       "3                  10     Darla  None    None   None  None  \n",
       "4                  10  Franklin  None    None   None  None  "
      ]
     },
     "execution_count": 80,
     "metadata": {},
     "output_type": "execute_result"
    }
   ],
   "source": [
    "archive_clean.head()"
   ]
  },
  {
   "cell_type": "markdown",
   "id": "5f2ad52e",
   "metadata": {},
   "source": [
    "## Define"
   ]
  },
  {
   "cell_type": "markdown",
   "id": "61198e0c",
   "metadata": {},
   "source": [
    "Some dog names are not correctly inputted. "
   ]
  },
  {
   "cell_type": "markdown",
   "id": "30d150a7",
   "metadata": {},
   "source": [
    "## Code"
   ]
  },
  {
   "cell_type": "code",
   "execution_count": 81,
   "id": "ed759961",
   "metadata": {},
   "outputs": [
    {
     "data": {
      "text/plain": [
       "array(['Phineas', 'Tilly', 'Archie', 'Darla', 'Franklin', 'None', 'Jax',\n",
       "       'Zoey', 'Cassie', 'Koda', 'Bruno', 'Ted', 'Stuart', 'Oliver',\n",
       "       'Jim', 'Zeke', 'Ralphus', 'Gerald', 'Jeffrey', 'such', 'Canela',\n",
       "       'Maya', 'Mingus', 'Derek', 'Roscoe', 'Waffles', 'Jimbo', 'Maisey',\n",
       "       'Earl', 'Lola', 'Kevin', 'Yogi', 'Noah', 'Bella', 'Grizzwald',\n",
       "       'Rusty', 'Gus', 'Stanley', 'Alfy', 'Koko', 'Rey', 'Gary', 'a',\n",
       "       'Elliot', 'Louis', 'Jesse', 'Romeo', 'Bailey', 'Duddles', 'Jack',\n",
       "       'Steven', 'Beau', 'Snoopy', 'Shadow', 'Emmy', 'Aja', 'Penny',\n",
       "       'Dante', 'Nelly', 'Ginger', 'Benedict', 'Venti', 'Goose', 'Nugget',\n",
       "       'Cash', 'Jed', 'Sebastian', 'Sierra', 'Monkey', 'Harry', 'Kody',\n",
       "       'Lassie', 'Rover', 'Napolean', 'Boomer', 'Cody', 'Rumble',\n",
       "       'Clifford', 'Dewey', 'Scout', 'Gizmo', 'Walter', 'Cooper',\n",
       "       'Harold', 'Shikha', 'Lili', 'Jamesy', 'Coco', 'Sammy', 'Meatball',\n",
       "       'Paisley', 'Albus', 'Neptune', 'Belle', 'Quinn', 'Zooey', 'Dave',\n",
       "       'Jersey', 'Hobbes', 'Burt', 'Lorenzo', 'Carl', 'Jordy', 'Milky',\n",
       "       'Trooper', 'quite', 'Sophie', 'Wyatt', 'Rosie', 'Thor', 'Oscar',\n",
       "       'Callie', 'Cermet', 'Marlee', 'Arya', 'Einstein', 'Alice',\n",
       "       'Rumpole', 'Benny', 'Aspen', 'Jarod', 'Wiggles', 'General',\n",
       "       'Sailor', 'Iggy', 'Snoop', 'Kyle', 'Leo', 'Riley', 'Noosh', 'Odin',\n",
       "       'Jerry', 'Georgie', 'Rontu', 'Cannon', 'Furzey', 'Daisy', 'Tuck',\n",
       "       'Barney', 'Vixen', 'Jarvis', 'Mimosa', 'Pickles', 'Brady', 'Luna',\n",
       "       'Charlie', 'Margo', 'Sadie', 'Hank', 'Tycho', 'Indie', 'Winnie',\n",
       "       'George', 'Bentley', 'Max', 'Dawn', 'Maddie', 'Monty', 'Sojourner',\n",
       "       'Winston', 'Odie', 'Arlo', 'Vincent', 'Lucy', 'Clark', 'Mookie',\n",
       "       'Meera', 'Ava', 'Eli', 'Ash', 'Tucker', 'Tobi', 'Chester',\n",
       "       'Wilson', 'Sunshine', 'Lipton', 'Bronte', 'Poppy', 'Gidget',\n",
       "       'Rhino', 'Willow', 'not', 'Orion', 'Eevee', 'Smiley', 'Miguel',\n",
       "       'Emanuel', 'Kuyu', 'Dutch', 'Pete', 'Scooter', 'Reggie', 'Lilly',\n",
       "       'Samson', 'Mia', 'Astrid', 'Malcolm', 'Dexter', 'Alfie', 'Fiona',\n",
       "       'one', 'Mutt', 'Bear', 'Doobert', 'Beebop', 'Alexander', 'Sailer',\n",
       "       'Brutus', 'Kona', 'Boots', 'Ralphie', 'Loki', 'Cupid', 'Pawnd',\n",
       "       'Pilot', 'Ike', 'Mo', 'Toby', 'Sweet', 'Pablo', 'Nala', 'Crawford',\n",
       "       'Gabe', 'Jimison', 'Duchess', 'Harlso', 'Sundance', 'Luca',\n",
       "       'Flash', 'Sunny', 'Howie', 'Jazzy', 'Anna', 'Finn', 'Bo', 'Wafer',\n",
       "       'Tom', 'Florence', 'Autumn', 'Buddy', 'Dido', 'Eugene', 'Ken',\n",
       "       'Strudel', 'Tebow', 'Chloe', 'Timber', 'Binky', 'Moose', 'Dudley',\n",
       "       'Comet', 'Akumi', 'Titan', 'Olivia', 'Alf', 'Oshie', 'Chubbs',\n",
       "       'Sky', 'Atlas', 'Eleanor', 'Layla', 'Rocky', 'Baron', 'Tyr',\n",
       "       'Bauer', 'Swagger', 'Brandi', 'Mary', 'Moe', 'Halo', 'Augie',\n",
       "       'Craig', 'Hunter', 'Pavlov', 'Phil', 'Kyro', 'Wallace', 'Ito',\n",
       "       'Seamus', 'Ollie', 'Stephan', 'Lennon', 'incredibly', 'Major',\n",
       "       'Duke', 'Sansa', 'Shooter', 'Django', 'Diogi', 'Sonny', 'Marley',\n",
       "       'Severus', 'Ronnie', 'Milo', 'Bones', 'Mauve', 'Chef', 'Doc',\n",
       "       'Peaches', 'Sobe', 'Longfellow', 'Mister', 'Iroh', 'Pancake',\n",
       "       'Snicku', 'Ruby', 'Brody', 'Mack', 'Nimbus', 'Laika', 'Maximus',\n",
       "       'Dobby', 'Moreton', 'Juno', 'Maude', 'Lily', 'Newt', 'Benji',\n",
       "       'Nida', 'Robin', 'Monster', 'BeBe', 'Remus', 'Levi', 'Mabel',\n",
       "       'Misty', 'Betty', 'Mosby', 'Maggie', 'Bruce', 'Happy', 'Ralphy',\n",
       "       'Brownie', 'Rizzy', 'Stella', 'Butter', 'Frank', 'Tonks',\n",
       "       'Lincoln', 'Rory', 'Logan', 'Dale', 'Rizzo', 'Arnie', 'Mattie',\n",
       "       'Pinot', 'Dallas', 'Hero', 'Frankie', 'Stormy', 'Reginald',\n",
       "       'Balto', 'Mairi', 'Loomis', 'Godi', 'Cali', 'Deacon', 'Timmy',\n",
       "       'Sampson', 'Chipson', 'Combo', 'Oakley', 'Dash', 'Hercules', 'Jay',\n",
       "       'Mya', 'Strider', 'Wesley', 'Solomon', 'Huck', 'O', 'Blue',\n",
       "       'Anakin', 'Finley', 'Sprinkles', 'Heinrich', 'Shakespeare',\n",
       "       'Chelsea', 'Bungalo', 'Chip', 'Grey', 'Roosevelt', 'Willem',\n",
       "       'Davey', 'Dakota', 'Fizz', 'Dixie', 'very', 'Al', 'Jackson',\n",
       "       'Carbon', 'Klein', 'DonDon', 'Kirby', 'Lou', 'Chevy', 'Tito',\n",
       "       'Philbert', 'Louie', 'Rupert', 'Rufus', 'Brudge', 'Shadoe',\n",
       "       'Angel', 'Brat', 'Tove', 'my', 'Gromit', 'Aubie', 'Kota', 'Leela',\n",
       "       'Glenn', 'Shelby', 'Sephie', 'Bonaparte', 'Albert', 'Wishes',\n",
       "       'Rose', 'Theo', 'Rocco', 'Fido', 'Emma', 'Spencer', 'Lilli',\n",
       "       'Boston', 'Brandonald', 'Corey', 'Leonard', 'Beckham', 'Devón',\n",
       "       'Gert', 'Watson', 'Keith', 'Dex', 'Ace', 'Tayzie', 'Grizzie',\n",
       "       'Fred', 'Gilbert', 'Meyer', 'Zoe', 'Stewie', 'Calvin', 'Lilah',\n",
       "       'Spanky', 'Jameson', 'Piper', 'Atticus', 'Blu', 'Dietrich',\n",
       "       'Divine', 'Tripp', 'his', 'Cora', 'Huxley', 'Keurig', 'Bookstore',\n",
       "       'Linus', 'Abby', 'Shiloh', 'an', 'Gustav', 'Arlen', 'Percy',\n",
       "       'Lenox', 'Sugar', 'Harvey', 'Blanket', 'actually', 'Geno', 'Stark',\n",
       "       'Beya', 'Kilo', 'Kayla', 'Maxaroni', 'Bell', 'Doug', 'Edmund',\n",
       "       'Aqua', 'Theodore', 'just', 'Baloo', 'Chase', 'getting', 'Nollie',\n",
       "       'Rorie', 'Simba', 'Charles', 'Bayley', 'Axel', 'Storkson', 'Remy',\n",
       "       'Chadrick', 'mad', 'Kellogg', 'Buckley', 'Livvie', 'Terry',\n",
       "       'Hermione', 'Ralpher', 'Aldrick', 'Larry', 'unacceptable',\n",
       "       'Rooney', 'Crystal', 'Ziva', 'Stefan', 'Pupcasso', 'Puff',\n",
       "       'Flurpson', 'Coleman', 'Enchilada', 'Raymond', 'all', 'Rueben',\n",
       "       'Cilantro', 'Karll', 'Sprout', 'Blitz', 'Bloop', 'Colby', 'Lillie',\n",
       "       'Ashleigh', 'Kreggory', 'Sarge', 'Luther', 'Ivar', 'Jangle',\n",
       "       'Schnitzel', 'Panda', 'Berkeley', 'Ralphé', 'Charleson', 'Clyde',\n",
       "       'Harnold', 'Sid', 'Pippa', 'Otis', 'Carper', 'Bowie',\n",
       "       'Alexanderson', 'Suki', 'Barclay', 'Skittle', 'Ebby', 'Flávio',\n",
       "       'Smokey', 'Link', 'Jennifur', 'Ozzy', 'Stephanus', 'Bubbles',\n",
       "       'old', 'Zeus', 'Bertson', 'Nico', 'Michelangelope', 'Siba',\n",
       "       'Calbert', 'Curtis', 'Travis', 'Thumas', 'Kanu', 'Lance', 'Opie',\n",
       "       'Stubert', 'Kane', 'Olive', 'Chuckles', 'Staniel', 'Sora', 'Beemo',\n",
       "       'Gunner', 'infuriating', 'Lacy', 'Tater', 'Olaf', 'Cecil', 'Vince',\n",
       "       'Karma', 'Billy', 'Walker', 'Rodney', 'Klevin', 'Malikai',\n",
       "       'Bobble', 'River', 'Jebberson', 'Remington', 'Farfle', 'Jiminus',\n",
       "       'Harper', 'Clarkus', 'Finnegus', 'Cupcake', 'Kathmandu', 'Ellie',\n",
       "       'Katie', 'Kara', 'Adele', 'Zara', 'Ambrose', 'Jimothy', 'Bode',\n",
       "       'Terrenth', 'Reese', 'Chesterson', 'Lucia', 'Bisquick', 'Ralphson',\n",
       "       'Socks', 'Rambo', 'Rudy', 'Fiji', 'Rilo', 'Bilbo', 'Coopson',\n",
       "       'Yoda', 'Millie', 'Chet', 'Crouton', 'Daniel', 'Kaia', 'Murphy',\n",
       "       'Dotsy', 'Eazy', 'Coops', 'Fillup', 'Miley', 'Charl', 'Reagan',\n",
       "       'Yukon', 'CeCe', 'Cuddles', 'Claude', 'Jessiga', 'Carter', 'Ole',\n",
       "       'Pherb', 'Blipson', 'Reptar', 'Trevith', 'Berb', 'Bob', 'Colin',\n",
       "       'Brian', 'Oliviér', 'Grady', 'Kobe', 'Freddery', 'Bodie', 'Dunkin',\n",
       "       'Wally', 'Tupawc', 'Amber', 'Herschel', 'Edgar', 'Teddy',\n",
       "       'Kingsley', 'Brockly', 'Richie', 'Molly', 'Vinscent', 'Cedrick',\n",
       "       'Hazel', 'Lolo', 'Eriq', 'Phred', 'the', 'Oddie', 'Maxwell',\n",
       "       'Geoff', 'Covach', 'Durg', 'Fynn', 'Ricky', 'Herald', 'Lucky',\n",
       "       'Ferg', 'Trip', 'Clarence', 'Hamrick', 'Brad', 'Pubert', 'Frönq',\n",
       "       'Derby', 'Lizzie', 'Ember', 'Blakely', 'Opal', 'Marq', 'Kramer',\n",
       "       'Barry', 'Tyrone', 'Gordon', 'Baxter', 'Mona', 'Horace', 'Crimson',\n",
       "       'Birf', 'Hammond', 'Lorelei', 'Marty', 'Brooks', 'Petrick',\n",
       "       'Hubertson', 'Gerbald', 'Oreo', 'Bruiser', 'Perry', 'Bobby',\n",
       "       'Jeph', 'Obi', 'Tino', 'Kulet', 'Sweets', 'Lupe', 'Tiger',\n",
       "       'Jiminy', 'Griffin', 'Banjo', 'Brandy', 'Lulu', 'Taco', 'Joey',\n",
       "       'Patrick', 'Kreg', 'Todo', 'Tess', 'Ulysses', 'Toffee', 'Apollo',\n",
       "       'Carly', 'Asher', 'Glacier', 'Chuck', 'Champ', 'Ozzie', 'Griswold',\n",
       "       'Cheesy', 'Moofasa', 'Hector', 'Goliath', 'Kawhi', 'by', 'Emmie',\n",
       "       'Penelope', 'Willie', 'Rinna', 'Mike', 'William', 'Dwight', 'Evy',\n",
       "       'Hurley', 'Rubio', 'officially', 'Chompsky', 'Rascal', 'Linda',\n",
       "       'Tug', 'Tango', 'Grizz', 'Jerome', 'Crumpet', 'Jessifer', 'Izzy',\n",
       "       'Ralph', 'Sandy', 'Humphrey', 'Tassy', 'Juckson', 'Chuq', 'Tyrus',\n",
       "       'Karl', 'Godzilla', 'Vinnie', 'Kenneth', 'Herm', 'Bert', 'Striker',\n",
       "       'Donny', 'Pepper', 'Bernie', 'Buddah', 'Lenny', 'Arnold', 'Zuzu',\n",
       "       'Mollie', 'Laela', 'Tedders', 'Superpup', 'Rufio', 'Jeb', 'Rodman',\n",
       "       'Jonah', 'Chesney', 'life', 'Kenny', 'Henry', 'Bobbay', 'Mitch',\n",
       "       'Kaiya', 'Acro', 'Aiden', 'Obie', 'Dot', 'Shnuggles', 'Kendall',\n",
       "       'Jeffri', 'Steve', 'Eve', 'Mac', 'Fletcher', 'Kenzie', 'Pumpkin',\n",
       "       'Schnozz', 'Gustaf', 'Cheryl', 'Ed', 'Leonidas', 'Norman', 'Caryl',\n",
       "       'Scott', 'Taz', 'Darby', 'Jackie', 'light', 'Jazz', 'Franq',\n",
       "       'Pippin', 'Rolf', 'Snickers', 'Ridley', 'Cal', 'Bradley', 'Bubba',\n",
       "       'Tuco', 'Patch', 'Mojo', 'Batdog', 'Dylan', 'space', 'Mark', 'JD',\n",
       "       'Alejandro', 'Scruffers', 'Pip', 'Julius', 'Tanner', 'Sparky',\n",
       "       'Anthony', 'Holly', 'Jett', 'Amy', 'Sage', 'Andy', 'Mason',\n",
       "       'Trigger', 'Antony', 'Creg', 'Traviss', 'Gin', 'Jeffrie', 'Danny',\n",
       "       'Ester', 'Pluto', 'Bloo', 'Edd', 'Paull', 'Sam', 'Willy', 'Herb',\n",
       "       'Damon', 'Peanut', 'Nigel', 'Butters', 'Sandra', 'Fabio',\n",
       "       'Randall', 'Liam', 'Tommy', 'Ben', 'Raphael', 'Julio', 'Andru',\n",
       "       'Kloey', 'Shawwn', 'Skye', 'Kollin', 'Ronduh', 'Billl', 'Saydee',\n",
       "       'Dug', 'Tessa', 'Sully', 'Kirk', 'Ralf', 'Clarq', 'Jaspers',\n",
       "       'Samsom', 'Terrance', 'Harrison', 'Chaz', 'Jeremy', 'Jaycob',\n",
       "       'Lambeau', 'Ruffles', 'Amélie', 'Bobb', 'Banditt', 'Kevon',\n",
       "       'Winifred', 'Hanz', 'Churlie', 'Zeek', 'Timofy', 'Maks',\n",
       "       'Jomathan', 'Kallie', 'Marvin', 'Spark', 'Gòrdón', 'Jo', 'DayZ',\n",
       "       'Jareld', 'Torque', 'Ron', 'Skittles', 'Cleopatricia', 'Erik',\n",
       "       'Stu', 'Tedrick', 'Shaggy', 'Filup', 'Kial', 'Naphaniel', 'Dook',\n",
       "       'Hall', 'Philippe', 'Biden', 'Fwed', 'Genevieve', 'Joshwa',\n",
       "       'Timison', 'Bradlay', 'Pipsy', 'Clybe', 'Keet', 'Carll', 'Jockson',\n",
       "       'Josep', 'Lugan', 'Christoper'], dtype=object)"
      ]
     },
     "execution_count": 81,
     "metadata": {},
     "output_type": "execute_result"
    }
   ],
   "source": [
    "archive_clean['name'].unique()"
   ]
  },
  {
   "cell_type": "code",
   "execution_count": 82,
   "id": "0262a8be",
   "metadata": {},
   "outputs": [],
   "source": [
    "notaname=['None','such','a','not','one','incredibly','an','O','very','just','my','his','getting','by','the','dot','space','quite']"
   ]
  },
  {
   "cell_type": "code",
   "execution_count": 83,
   "id": "a4970a1f",
   "metadata": {},
   "outputs": [],
   "source": [
    "archive_clean['name']=archive_clean['name'].replace(notaname, None)\n"
   ]
  },
  {
   "cell_type": "markdown",
   "id": "705abf63",
   "metadata": {},
   "source": [
    "## Test"
   ]
  },
  {
   "cell_type": "code",
   "execution_count": 84,
   "id": "5eedccd9",
   "metadata": {},
   "outputs": [
    {
     "name": "stdout",
     "output_type": "stream",
     "text": [
      "No such a word in the column\n"
     ]
    }
   ],
   "source": [
    "for i in notaname:\n",
    "    if i in twitter_archive['name']:\n",
    "        print(\"The column contains invalid name \" , twitter_archive['name'])\n",
    "    else: print('No such a word in the column')\n",
    "    break"
   ]
  },
  {
   "cell_type": "markdown",
   "id": "f1628cb8",
   "metadata": {},
   "source": [
    "## Define"
   ]
  },
  {
   "cell_type": "markdown",
   "id": "dc267d79",
   "metadata": {},
   "source": [
    "Text column contains 2 variables. It should be seperated."
   ]
  },
  {
   "cell_type": "markdown",
   "id": "aa60b122",
   "metadata": {},
   "source": [
    "## Code"
   ]
  },
  {
   "cell_type": "code",
   "execution_count": 85,
   "id": "9ef4a0c7",
   "metadata": {},
   "outputs": [],
   "source": [
    "archive_clean['text']=archive_clean['text'].str.rsplit(\" \", n = 1, expand = True)[0]"
   ]
  },
  {
   "cell_type": "markdown",
   "id": "0adfe630",
   "metadata": {},
   "source": [
    "## Test"
   ]
  },
  {
   "cell_type": "code",
   "execution_count": 86,
   "id": "651d6158",
   "metadata": {},
   "outputs": [
    {
     "data": {
      "text/plain": [
       "\"This is Phineas. He's a mystical boy. Only ever appears in the hole of a donut. 13/10\""
      ]
     },
     "execution_count": 86,
     "metadata": {},
     "output_type": "execute_result"
    }
   ],
   "source": [
    "archive_clean['text'][0]"
   ]
  },
  {
   "cell_type": "markdown",
   "id": "e74f0d5a",
   "metadata": {},
   "source": [
    "## Define"
   ]
  },
  {
   "cell_type": "markdown",
   "id": "ad7a52cb",
   "metadata": {},
   "source": [
    "Some tweets do not contain dog pictures"
   ]
  },
  {
   "cell_type": "markdown",
   "id": "177724c6",
   "metadata": {},
   "source": [
    "## Code"
   ]
  },
  {
   "cell_type": "code",
   "execution_count": 87,
   "id": "50e3984a",
   "metadata": {},
   "outputs": [],
   "source": [
    "p1=image_clean[image_clean['p1_dog']==True]\n",
    "p2=p1[p1['p2_dog']==True]\n",
    "image_prediction=p2[p2['p3_dog']==True]"
   ]
  },
  {
   "cell_type": "markdown",
   "id": "1995c23b",
   "metadata": {},
   "source": [
    "## Test"
   ]
  },
  {
   "cell_type": "code",
   "execution_count": 88,
   "id": "8d63f795",
   "metadata": {},
   "outputs": [
    {
     "name": "stdout",
     "output_type": "stream",
     "text": [
      "True    1243\n",
      "Name: p1_dog, dtype: int64\n",
      "True    1243\n",
      "Name: p2_dog, dtype: int64\n",
      "True    1243\n",
      "Name: p3_dog, dtype: int64\n"
     ]
    }
   ],
   "source": [
    "print(image_prediction.p1_dog.value_counts())\n",
    "print(image_prediction.p2_dog.value_counts())\n",
    "print(image_prediction.p3_dog.value_counts())"
   ]
  },
  {
   "cell_type": "markdown",
   "id": "b3d5707c",
   "metadata": {},
   "source": [
    "## Define"
   ]
  },
  {
   "cell_type": "markdown",
   "id": "23626308",
   "metadata": {},
   "source": [
    " twitter_data id column object should be integer"
   ]
  },
  {
   "cell_type": "markdown",
   "id": "0d92bee5",
   "metadata": {},
   "source": [
    "## Code"
   ]
  },
  {
   "cell_type": "code",
   "execution_count": 89,
   "id": "9634a2d8",
   "metadata": {},
   "outputs": [],
   "source": [
    "twitterapi_clean['tweet_id']=pd.to_numeric(twitterapi_clean['tweet_id'], errors='coerce')"
   ]
  },
  {
   "cell_type": "markdown",
   "id": "0bf7ca30",
   "metadata": {},
   "source": [
    "## Test"
   ]
  },
  {
   "cell_type": "code",
   "execution_count": 90,
   "id": "8b452df0",
   "metadata": {},
   "outputs": [
    {
     "name": "stdout",
     "output_type": "stream",
     "text": [
      "<class 'pandas.core.frame.DataFrame'>\n",
      "RangeIndex: 1366 entries, 0 to 1365\n",
      "Data columns (total 4 columns):\n",
      " #   Column           Non-Null Count  Dtype\n",
      "---  ------           --------------  -----\n",
      " 0   tweet_id         1366 non-null   int64\n",
      " 1   retweet_count    1366 non-null   int64\n",
      " 2   favorite_count   1366 non-null   int64\n",
      " 3   followers_count  1366 non-null   int64\n",
      "dtypes: int64(4)\n",
      "memory usage: 42.8 KB\n"
     ]
    }
   ],
   "source": [
    "twitterapi_clean.info()"
   ]
  },
  {
   "cell_type": "markdown",
   "id": "9661add8",
   "metadata": {},
   "source": [
    " "
   ]
  },
  {
   "cell_type": "markdown",
   "id": "323fce06",
   "metadata": {},
   "source": [
    "# Tidiness"
   ]
  },
  {
   "cell_type": "markdown",
   "id": "5368a8b8",
   "metadata": {},
   "source": [
    "## Define"
   ]
  },
  {
   "cell_type": "markdown",
   "id": "15a112d9",
   "metadata": {},
   "source": [
    "doggo, floofer, pupper and puppo columns in twitter_archive table should be merged into one column named \"dog_stage\"."
   ]
  },
  {
   "cell_type": "markdown",
   "id": "ebeffe93",
   "metadata": {},
   "source": [
    "## Code"
   ]
  },
  {
   "cell_type": "code",
   "execution_count": 91,
   "id": "6a31e255",
   "metadata": {},
   "outputs": [
    {
     "data": {
      "text/plain": [
       "doggo  floofer  pupper  puppo\n",
       "None   None     None    None     1809\n",
       "                pupper  None      224\n",
       "doggo  None     None    None       75\n",
       "None   None     None    puppo      24\n",
       "doggo  None     pupper  None       10\n",
       "None   floofer  None    None        9\n",
       "doggo  None     None    puppo       1\n",
       "       floofer  None    None        1\n",
       "dtype: int64"
      ]
     },
     "execution_count": 91,
     "metadata": {},
     "output_type": "execute_result"
    }
   ],
   "source": [
    "archive_clean[['doggo','floofer','pupper','puppo']].value_counts()"
   ]
  },
  {
   "cell_type": "code",
   "execution_count": 92,
   "id": "72900981",
   "metadata": {},
   "outputs": [
    {
     "data": {
      "text/plain": [
       "NoneNoneNoneNone        1809\n",
       "NoneNonepupperNone       224\n",
       "doggoNoneNoneNone         75\n",
       "NoneNoneNonepuppo         24\n",
       "doggoNonepupperNone       10\n",
       "NoneflooferNoneNone        9\n",
       "doggoNoneNonepuppo         1\n",
       "doggoflooferNoneNone       1\n",
       "Name: add_all, dtype: int64"
      ]
     },
     "execution_count": 92,
     "metadata": {},
     "output_type": "execute_result"
    }
   ],
   "source": [
    "archive_clean['add_all']=archive_clean['doggo']+archive_clean['floofer']+archive_clean['pupper']+archive_clean['puppo']\n",
    "archive_clean['add_all'].value_counts()"
   ]
  },
  {
   "cell_type": "code",
   "execution_count": 93,
   "id": "7e6874e2",
   "metadata": {},
   "outputs": [],
   "source": [
    "def dog_check(archive_clean):\n",
    "    if archive_clean['add_all'].count('None')==2:\n",
    "        return 'Multiple'\n",
    "    else:\n",
    "        if archive_clean['add_all'].count('doggo')==1:\n",
    "            return 'Doogo'\n",
    "        elif archive_clean['add_all'].count('floofer')==1:\n",
    "            return 'Floofer'\n",
    "        elif archive_clean['add_all'].count('pupper')==1:\n",
    "            return 'Pupper'\n",
    "        elif archive_clean['add_all'].count('puppo')==1:\n",
    "            return 'Puppo'\n",
    "        else:\n",
    "            'None'\n",
    "archive_clean['dog_stage']=archive_clean.apply(dog_check, axis=1)"
   ]
  },
  {
   "cell_type": "code",
   "execution_count": 94,
   "id": "8cb76784",
   "metadata": {},
   "outputs": [],
   "source": [
    "archive_clean=archive_clean.drop(labels=['doggo', 'floofer','pupper','puppo','add_all'], axis=1)"
   ]
  },
  {
   "cell_type": "markdown",
   "id": "97888d56",
   "metadata": {},
   "source": [
    "## Test"
   ]
  },
  {
   "cell_type": "code",
   "execution_count": 95,
   "id": "fab7d318",
   "metadata": {},
   "outputs": [
    {
     "name": "stdout",
     "output_type": "stream",
     "text": [
      "<class 'pandas.core.frame.DataFrame'>\n",
      "Int64Index: 2153 entries, 0 to 2355\n",
      "Data columns (total 14 columns):\n",
      " #   Column                      Non-Null Count  Dtype              \n",
      "---  ------                      --------------  -----              \n",
      " 0   tweet_id                    2153 non-null   int64              \n",
      " 1   in_reply_to_status_id       73 non-null     float64            \n",
      " 2   in_reply_to_user_id         73 non-null     float64            \n",
      " 3   timestamp                   2153 non-null   datetime64[ns, UTC]\n",
      " 4   source                      2153 non-null   object             \n",
      " 5   text                        2153 non-null   object             \n",
      " 6   retweeted_status_id         0 non-null      float64            \n",
      " 7   retweeted_status_user_id    0 non-null      float64            \n",
      " 8   retweeted_status_timestamp  0 non-null      datetime64[ns]     \n",
      " 9   expanded_urls               2099 non-null   object             \n",
      " 10  rating_numerator            2153 non-null   int64              \n",
      " 11  rating_denominator          2153 non-null   int64              \n",
      " 12  name                        2153 non-null   object             \n",
      " 13  dog_stage                   344 non-null    object             \n",
      "dtypes: datetime64[ns, UTC](1), datetime64[ns](1), float64(4), int64(3), object(5)\n",
      "memory usage: 316.8+ KB\n"
     ]
    }
   ],
   "source": [
    "archive_clean.info()"
   ]
  },
  {
   "cell_type": "markdown",
   "id": "0ecb3513",
   "metadata": {},
   "source": [
    "## Define"
   ]
  },
  {
   "cell_type": "markdown",
   "id": "c64e1139",
   "metadata": {},
   "source": [
    "twitter api table columns(retweet_count, favorite_count, followers_count) should be added to twitter archive table."
   ]
  },
  {
   "cell_type": "markdown",
   "id": "4cc66880",
   "metadata": {},
   "source": [
    "## Code"
   ]
  },
  {
   "cell_type": "code",
   "execution_count": 96,
   "id": "e7d89adb",
   "metadata": {},
   "outputs": [],
   "source": [
    "merged=pd.merge(archive_clean, twitterapi_clean, on='tweet_id',how='left')\n",
    "twitter_table=pd.merge(merged,image_prediction , on='tweet_id',how='left')"
   ]
  },
  {
   "cell_type": "markdown",
   "id": "4750ce01",
   "metadata": {},
   "source": [
    "## Test"
   ]
  },
  {
   "cell_type": "code",
   "execution_count": 97,
   "id": "d16e758b",
   "metadata": {},
   "outputs": [
    {
     "data": {
      "text/html": [
       "<div>\n",
       "<style scoped>\n",
       "    .dataframe tbody tr th:only-of-type {\n",
       "        vertical-align: middle;\n",
       "    }\n",
       "\n",
       "    .dataframe tbody tr th {\n",
       "        vertical-align: top;\n",
       "    }\n",
       "\n",
       "    .dataframe thead th {\n",
       "        text-align: right;\n",
       "    }\n",
       "</style>\n",
       "<table border=\"1\" class=\"dataframe\">\n",
       "  <thead>\n",
       "    <tr style=\"text-align: right;\">\n",
       "      <th></th>\n",
       "      <th>tweet_id</th>\n",
       "      <th>in_reply_to_status_id</th>\n",
       "      <th>in_reply_to_user_id</th>\n",
       "      <th>timestamp</th>\n",
       "      <th>source</th>\n",
       "      <th>text</th>\n",
       "      <th>retweeted_status_id</th>\n",
       "      <th>retweeted_status_user_id</th>\n",
       "      <th>retweeted_status_timestamp</th>\n",
       "      <th>expanded_urls</th>\n",
       "      <th>...</th>\n",
       "      <th>img_num</th>\n",
       "      <th>p1</th>\n",
       "      <th>p1_conf</th>\n",
       "      <th>p1_dog</th>\n",
       "      <th>p2</th>\n",
       "      <th>p2_conf</th>\n",
       "      <th>p2_dog</th>\n",
       "      <th>p3</th>\n",
       "      <th>p3_conf</th>\n",
       "      <th>p3_dog</th>\n",
       "    </tr>\n",
       "  </thead>\n",
       "  <tbody>\n",
       "    <tr>\n",
       "      <th>0</th>\n",
       "      <td>892420643555336193</td>\n",
       "      <td>NaN</td>\n",
       "      <td>NaN</td>\n",
       "      <td>2017-08-01 16:23:56+00:00</td>\n",
       "      <td>Twitter for iPhone</td>\n",
       "      <td>This is Phineas. He's a mystical boy. Only eve...</td>\n",
       "      <td>NaN</td>\n",
       "      <td>NaN</td>\n",
       "      <td>NaT</td>\n",
       "      <td>https://twitter.com/dog_rates/status/892420643...</td>\n",
       "      <td>...</td>\n",
       "      <td>NaN</td>\n",
       "      <td>NaN</td>\n",
       "      <td>NaN</td>\n",
       "      <td>NaN</td>\n",
       "      <td>NaN</td>\n",
       "      <td>NaN</td>\n",
       "      <td>NaN</td>\n",
       "      <td>NaN</td>\n",
       "      <td>NaN</td>\n",
       "      <td>NaN</td>\n",
       "    </tr>\n",
       "    <tr>\n",
       "      <th>1</th>\n",
       "      <td>892177421306343426</td>\n",
       "      <td>NaN</td>\n",
       "      <td>NaN</td>\n",
       "      <td>2017-08-01 00:17:27+00:00</td>\n",
       "      <td>Twitter for iPhone</td>\n",
       "      <td>This is Tilly. She's just checking pup on you....</td>\n",
       "      <td>NaN</td>\n",
       "      <td>NaN</td>\n",
       "      <td>NaT</td>\n",
       "      <td>https://twitter.com/dog_rates/status/892177421...</td>\n",
       "      <td>...</td>\n",
       "      <td>1.0</td>\n",
       "      <td>Chihuahua</td>\n",
       "      <td>0.323581</td>\n",
       "      <td>True</td>\n",
       "      <td>Pekinese</td>\n",
       "      <td>0.090647</td>\n",
       "      <td>True</td>\n",
       "      <td>papillon</td>\n",
       "      <td>0.068957</td>\n",
       "      <td>True</td>\n",
       "    </tr>\n",
       "    <tr>\n",
       "      <th>2</th>\n",
       "      <td>891815181378084864</td>\n",
       "      <td>NaN</td>\n",
       "      <td>NaN</td>\n",
       "      <td>2017-07-31 00:18:03+00:00</td>\n",
       "      <td>Twitter for iPhone</td>\n",
       "      <td>This is Archie. He is a rare Norwegian Pouncin...</td>\n",
       "      <td>NaN</td>\n",
       "      <td>NaN</td>\n",
       "      <td>NaT</td>\n",
       "      <td>https://twitter.com/dog_rates/status/891815181...</td>\n",
       "      <td>...</td>\n",
       "      <td>1.0</td>\n",
       "      <td>Chihuahua</td>\n",
       "      <td>0.716012</td>\n",
       "      <td>True</td>\n",
       "      <td>malamute</td>\n",
       "      <td>0.078253</td>\n",
       "      <td>True</td>\n",
       "      <td>kelpie</td>\n",
       "      <td>0.031379</td>\n",
       "      <td>True</td>\n",
       "    </tr>\n",
       "  </tbody>\n",
       "</table>\n",
       "<p>3 rows × 28 columns</p>\n",
       "</div>"
      ],
      "text/plain": [
       "             tweet_id  in_reply_to_status_id  in_reply_to_user_id  \\\n",
       "0  892420643555336193                    NaN                  NaN   \n",
       "1  892177421306343426                    NaN                  NaN   \n",
       "2  891815181378084864                    NaN                  NaN   \n",
       "\n",
       "                  timestamp              source  \\\n",
       "0 2017-08-01 16:23:56+00:00  Twitter for iPhone   \n",
       "1 2017-08-01 00:17:27+00:00  Twitter for iPhone   \n",
       "2 2017-07-31 00:18:03+00:00  Twitter for iPhone   \n",
       "\n",
       "                                                text  retweeted_status_id  \\\n",
       "0  This is Phineas. He's a mystical boy. Only eve...                  NaN   \n",
       "1  This is Tilly. She's just checking pup on you....                  NaN   \n",
       "2  This is Archie. He is a rare Norwegian Pouncin...                  NaN   \n",
       "\n",
       "   retweeted_status_user_id retweeted_status_timestamp  \\\n",
       "0                       NaN                        NaT   \n",
       "1                       NaN                        NaT   \n",
       "2                       NaN                        NaT   \n",
       "\n",
       "                                       expanded_urls  ...  img_num         p1  \\\n",
       "0  https://twitter.com/dog_rates/status/892420643...  ...      NaN        NaN   \n",
       "1  https://twitter.com/dog_rates/status/892177421...  ...      1.0  Chihuahua   \n",
       "2  https://twitter.com/dog_rates/status/891815181...  ...      1.0  Chihuahua   \n",
       "\n",
       "    p1_conf p1_dog        p2   p2_conf  p2_dog        p3   p3_conf p3_dog  \n",
       "0       NaN    NaN       NaN       NaN     NaN       NaN       NaN    NaN  \n",
       "1  0.323581   True  Pekinese  0.090647    True  papillon  0.068957   True  \n",
       "2  0.716012   True  malamute  0.078253    True    kelpie  0.031379   True  \n",
       "\n",
       "[3 rows x 28 columns]"
      ]
     },
     "execution_count": 97,
     "metadata": {},
     "output_type": "execute_result"
    }
   ],
   "source": [
    "twitter_table.head(3)"
   ]
  },
  {
   "cell_type": "code",
   "execution_count": 98,
   "id": "5a212c80",
   "metadata": {},
   "outputs": [
    {
     "name": "stdout",
     "output_type": "stream",
     "text": [
      "<class 'pandas.core.frame.DataFrame'>\n",
      "Int64Index: 2153 entries, 0 to 2152\n",
      "Data columns (total 28 columns):\n",
      " #   Column                      Non-Null Count  Dtype              \n",
      "---  ------                      --------------  -----              \n",
      " 0   tweet_id                    2153 non-null   int64              \n",
      " 1   in_reply_to_status_id       73 non-null     float64            \n",
      " 2   in_reply_to_user_id         73 non-null     float64            \n",
      " 3   timestamp                   2153 non-null   datetime64[ns, UTC]\n",
      " 4   source                      2153 non-null   object             \n",
      " 5   text                        2153 non-null   object             \n",
      " 6   retweeted_status_id         0 non-null      float64            \n",
      " 7   retweeted_status_user_id    0 non-null      float64            \n",
      " 8   retweeted_status_timestamp  0 non-null      datetime64[ns]     \n",
      " 9   expanded_urls               2099 non-null   object             \n",
      " 10  rating_numerator            2153 non-null   int64              \n",
      " 11  rating_denominator          2153 non-null   int64              \n",
      " 12  name                        2153 non-null   object             \n",
      " 13  dog_stage                   344 non-null    object             \n",
      " 14  retweet_count               1201 non-null   float64            \n",
      " 15  favorite_count              1201 non-null   float64            \n",
      " 16  followers_count             1201 non-null   float64            \n",
      " 17  jpg_url                     1189 non-null   object             \n",
      " 18  img_num                     1189 non-null   float64            \n",
      " 19  p1                          1189 non-null   object             \n",
      " 20  p1_conf                     1189 non-null   float64            \n",
      " 21  p1_dog                      1189 non-null   object             \n",
      " 22  p2                          1189 non-null   object             \n",
      " 23  p2_conf                     1189 non-null   float64            \n",
      " 24  p2_dog                      1189 non-null   object             \n",
      " 25  p3                          1189 non-null   object             \n",
      " 26  p3_conf                     1189 non-null   float64            \n",
      " 27  p3_dog                      1189 non-null   object             \n",
      "dtypes: datetime64[ns, UTC](1), datetime64[ns](1), float64(11), int64(3), object(12)\n",
      "memory usage: 487.8+ KB\n"
     ]
    }
   ],
   "source": [
    "twitter_table.info()"
   ]
  },
  {
   "cell_type": "markdown",
   "id": "5dc06fa1",
   "metadata": {},
   "source": [
    "## Storing Data"
   ]
  },
  {
   "cell_type": "code",
   "execution_count": 99,
   "id": "e71da09c",
   "metadata": {},
   "outputs": [],
   "source": [
    "twitter_table.to_csv('twitter_archive_master.csv', index=False)"
   ]
  },
  {
   "cell_type": "markdown",
   "id": "62dfe3c1",
   "metadata": {},
   "source": [
    " "
   ]
  },
  {
   "cell_type": "markdown",
   "id": "bd37ea8b",
   "metadata": {},
   "source": [
    "# Analysis and Visualizations"
   ]
  },
  {
   "cell_type": "markdown",
   "id": "b82170f3",
   "metadata": {},
   "source": [
    "1. Tweet Timelime. Retweet count by month\n",
    "2. Which source is used the most?\n",
    "2. Top 10 most commmon dog name and most commin dog stage.\n",
    "4. Is there correleation between retweet and favourite count?"
   ]
  },
  {
   "cell_type": "code",
   "execution_count": 100,
   "id": "790c4625",
   "metadata": {},
   "outputs": [],
   "source": [
    "twitter_archive_master = pd.read_csv('twitter_archive_master.csv')"
   ]
  },
  {
   "cell_type": "code",
   "execution_count": 101,
   "id": "74a7bda0",
   "metadata": {},
   "outputs": [
    {
     "name": "stdout",
     "output_type": "stream",
     "text": [
      "<class 'pandas.core.frame.DataFrame'>\n",
      "RangeIndex: 2153 entries, 0 to 2152\n",
      "Data columns (total 28 columns):\n",
      " #   Column                      Non-Null Count  Dtype  \n",
      "---  ------                      --------------  -----  \n",
      " 0   tweet_id                    2153 non-null   int64  \n",
      " 1   in_reply_to_status_id       73 non-null     float64\n",
      " 2   in_reply_to_user_id         73 non-null     float64\n",
      " 3   timestamp                   2153 non-null   object \n",
      " 4   source                      2153 non-null   object \n",
      " 5   text                        2153 non-null   object \n",
      " 6   retweeted_status_id         0 non-null      float64\n",
      " 7   retweeted_status_user_id    0 non-null      float64\n",
      " 8   retweeted_status_timestamp  0 non-null      float64\n",
      " 9   expanded_urls               2099 non-null   object \n",
      " 10  rating_numerator            2153 non-null   int64  \n",
      " 11  rating_denominator          2153 non-null   int64  \n",
      " 12  name                        2153 non-null   object \n",
      " 13  dog_stage                   344 non-null    object \n",
      " 14  retweet_count               1201 non-null   float64\n",
      " 15  favorite_count              1201 non-null   float64\n",
      " 16  followers_count             1201 non-null   float64\n",
      " 17  jpg_url                     1189 non-null   object \n",
      " 18  img_num                     1189 non-null   float64\n",
      " 19  p1                          1189 non-null   object \n",
      " 20  p1_conf                     1189 non-null   float64\n",
      " 21  p1_dog                      1189 non-null   object \n",
      " 22  p2                          1189 non-null   object \n",
      " 23  p2_conf                     1189 non-null   float64\n",
      " 24  p2_dog                      1189 non-null   object \n",
      " 25  p3                          1189 non-null   object \n",
      " 26  p3_conf                     1189 non-null   float64\n",
      " 27  p3_dog                      1189 non-null   object \n",
      "dtypes: float64(12), int64(3), object(13)\n",
      "memory usage: 471.1+ KB\n"
     ]
    }
   ],
   "source": [
    "twitter_archive_master.info()"
   ]
  },
  {
   "cell_type": "code",
   "execution_count": 102,
   "id": "0e661112",
   "metadata": {},
   "outputs": [],
   "source": [
    "twitter_archive_master['timestamp']=pd.to_datetime(twitter_archive_master['timestamp'], errors='coerce')\n",
    "twitter_archive_master['retweeted_status_timestamp']=pd.to_datetime(twitter_archive_master['retweeted_status_timestamp'], errors='coerce')\n",
    "twitter_archive_master['p1_dog']=twitter_archive_master['p1_dog'].astype(bool)\n",
    "twitter_archive_master['p2_dog']=twitter_archive_master['p2_dog'].astype(bool)\n",
    "twitter_archive_master['p3_dog']=twitter_archive_master['p3_dog'].astype(bool)"
   ]
  },
  {
   "cell_type": "code",
   "execution_count": 103,
   "id": "29a2d217",
   "metadata": {},
   "outputs": [
    {
     "name": "stdout",
     "output_type": "stream",
     "text": [
      "<class 'pandas.core.frame.DataFrame'>\n",
      "RangeIndex: 2153 entries, 0 to 2152\n",
      "Data columns (total 28 columns):\n",
      " #   Column                      Non-Null Count  Dtype              \n",
      "---  ------                      --------------  -----              \n",
      " 0   tweet_id                    2153 non-null   int64              \n",
      " 1   in_reply_to_status_id       73 non-null     float64            \n",
      " 2   in_reply_to_user_id         73 non-null     float64            \n",
      " 3   timestamp                   2153 non-null   datetime64[ns, UTC]\n",
      " 4   source                      2153 non-null   object             \n",
      " 5   text                        2153 non-null   object             \n",
      " 6   retweeted_status_id         0 non-null      float64            \n",
      " 7   retweeted_status_user_id    0 non-null      float64            \n",
      " 8   retweeted_status_timestamp  0 non-null      datetime64[ns]     \n",
      " 9   expanded_urls               2099 non-null   object             \n",
      " 10  rating_numerator            2153 non-null   int64              \n",
      " 11  rating_denominator          2153 non-null   int64              \n",
      " 12  name                        2153 non-null   object             \n",
      " 13  dog_stage                   344 non-null    object             \n",
      " 14  retweet_count               1201 non-null   float64            \n",
      " 15  favorite_count              1201 non-null   float64            \n",
      " 16  followers_count             1201 non-null   float64            \n",
      " 17  jpg_url                     1189 non-null   object             \n",
      " 18  img_num                     1189 non-null   float64            \n",
      " 19  p1                          1189 non-null   object             \n",
      " 20  p1_conf                     1189 non-null   float64            \n",
      " 21  p1_dog                      2153 non-null   bool               \n",
      " 22  p2                          1189 non-null   object             \n",
      " 23  p2_conf                     1189 non-null   float64            \n",
      " 24  p2_dog                      2153 non-null   bool               \n",
      " 25  p3                          1189 non-null   object             \n",
      " 26  p3_conf                     1189 non-null   float64            \n",
      " 27  p3_dog                      2153 non-null   bool               \n",
      "dtypes: bool(3), datetime64[ns, UTC](1), datetime64[ns](1), float64(11), int64(3), object(9)\n",
      "memory usage: 426.9+ KB\n"
     ]
    }
   ],
   "source": [
    "twitter_archive_master.info()"
   ]
  },
  {
   "cell_type": "code",
   "execution_count": 112,
   "id": "a10b2696",
   "metadata": {},
   "outputs": [
    {
     "data": {
      "image/png": "[encoded data removed]",
      "text/plain": [
       "<Figure size 432x288 with 1 Axes>"
      ]
     },
     "metadata": {
      "needs_background": "light"
     },
     "output_type": "display_data"
    }
   ],
   "source": [
    "#twitter_archive_master['timestamp']\n",
    "plt.plot(twitter_archive_master['timestamp'],twitter_archive_master['retweet_count'], color='blue')\n",
    "plt.title('Timeline of retweet count', color='black', fontsize=16)\n",
    "plt.xlabel('Time',color='black', fontsize=12)\n",
    "plt.ylabel('retweet count', color='black', fontsize=12)\n",
    "plt.xticks(rotation = 45)\n",
    "plt.show()"
   ]
  },
  {
   "cell_type": "code",
   "execution_count": 106,
   "id": "4f3b9145",
   "metadata": {},
   "outputs": [
    {
     "data": {
      "text/plain": [
       "Twitter for iPhone     2020\n",
       "Vine - Make a Scene      91\n",
       "Twitter Web Client       31\n",
       "TweetDeck                11\n",
       "Name: source, dtype: int64"
      ]
     },
     "execution_count": 106,
     "metadata": {},
     "output_type": "execute_result"
    }
   ],
   "source": [
    "source = twitter_archive_master['source'].value_counts()\n",
    "source"
   ]
  },
  {
   "cell_type": "code",
   "execution_count": 107,
   "id": "0e355437",
   "metadata": {
    "scrolled": true
   },
   "outputs": [
    {
     "data": {
      "image/png": "[encoded data removed]",
      "text/plain": [
       "<Figure size 432x288 with 1 Axes>"
      ]
     },
     "metadata": {
      "needs_background": "light"
     },
     "output_type": "display_data"
    }
   ],
   "source": [
    "twitter_archive_master['source'].value_counts().plot(kind='bar', color='blue')\n",
    "\n",
    "plt.title('The most used source',color='black', fontsize=16)\n",
    "plt.xlabel('Source', color='black', fontsize=12)\n",
    "plt.ylabel('Count', color='black', fontsize=12)\n",
    "plt.xticks(rotation = 45)\n",
    "\n",
    "plt.show()"
   ]
  },
  {
   "cell_type": "code",
   "execution_count": 108,
   "id": "bacdaea5",
   "metadata": {},
   "outputs": [
    {
     "data": {
      "text/plain": [
       "Walter     33\n",
       "Penny      18\n",
       "Lucy       17\n",
       "Cooper     16\n",
       "Sadie      16\n",
       "Daisy      16\n",
       "Charlie    14\n",
       "Oliver     14\n",
       "Toby       13\n",
       "Lola       12\n",
       "Name: name, dtype: int64"
      ]
     },
     "execution_count": 108,
     "metadata": {},
     "output_type": "execute_result"
    }
   ],
   "source": [
    "twitter_archive_master['name'].value_counts().head(10)"
   ]
  },
  {
   "cell_type": "code",
   "execution_count": 109,
   "id": "79dd9373",
   "metadata": {},
   "outputs": [
    {
     "data": {
      "image/png": "[encoded data removed]",
      "text/plain": [
       "<Figure size 432x288 with 1 Axes>"
      ]
     },
     "metadata": {
      "needs_background": "light"
     },
     "output_type": "display_data"
    }
   ],
   "source": [
    "twitter_archive_master['name'].value_counts().head(10).plot(kind='bar', color='blue')\n",
    "\n",
    "plt.title('Top 10 Popular Dog names',color='black', fontsize=16)\n",
    "plt.xlabel('Names', color='black', fontsize=12)\n",
    "plt.ylabel('Count', color='black', fontsize=12)\n",
    "plt.xticks(rotation = 45)\n",
    "plt.show()"
   ]
  },
  {
   "cell_type": "code",
   "execution_count": 110,
   "id": "8a1d3d56",
   "metadata": {},
   "outputs": [
    {
     "data": {
      "image/png": "[encoded data removed]",
      "text/plain": [
       "<Figure size 432x288 with 1 Axes>"
      ]
     },
     "metadata": {
      "needs_background": "light"
     },
     "output_type": "display_data"
    }
   ],
   "source": [
    "plt.scatter(twitter_archive_master['retweet_count'], twitter_archive_master['favorite_count'], color='blue')\n",
    "plt.title('Correlation between retweet and favourite count',color='black', fontsize=16)\n",
    "plt.xlabel('Retweet', color='black', fontsize=12)\n",
    "plt.ylabel('Favourite', color='black', fontsize=12)\n",
    "plt.show()"
   ]
  },
  {
   "cell_type": "code",
   "execution_count": 111,
   "id": "fd955f34",
   "metadata": {},
   "outputs": [
    {
     "data": {
      "text/plain": [
       "0.9204148230965573"
      ]
     },
     "execution_count": 111,
     "metadata": {},
     "output_type": "execute_result"
    }
   ],
   "source": [
    "twitter_archive_master['retweet_count'].corr(twitter_archive_master['favorite_count'])\n",
    "#0.9 correlation means there are positive relation between these variables."
   ]
  },
  {
   "cell_type": "code",
   "execution_count": null,
   "id": "12aa6032",
   "metadata": {},
   "outputs": [],
   "source": []
  }
 ],
 "metadata": {
  "kernelspec": {
   "display_name": "Python 3 (ipykernel)",
   "language": "python",
   "name": "python3"
  },
  "language_info": {
   "codemirror_mode": {
    "name": "ipython",
    "version": 3
   },
   "file_extension": ".py",
   "mimetype": "text/x-python",
   "name": "python",
   "nbconvert_exporter": "python",
   "pygments_lexer": "ipython3",
   "version": "3.9.7"
  }
 },
 "nbformat": 4,
 "nbformat_minor": 5
}
